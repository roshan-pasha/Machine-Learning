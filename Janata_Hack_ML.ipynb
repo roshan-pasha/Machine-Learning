{
 "cells": [
  {
   "cell_type": "code",
   "execution_count": 1,
   "metadata": {},
   "outputs": [],
   "source": [
    "import pandas as pd,numpy as np"
   ]
  },
  {
   "cell_type": "code",
   "execution_count": 2,
   "metadata": {},
   "outputs": [],
   "source": [
    "train = pd.read_csv('train_HK6lq50.csv')"
   ]
  },
  {
   "cell_type": "code",
   "execution_count": 3,
   "metadata": {},
   "outputs": [
    {
     "data": {
      "text/html": [
       "<div>\n",
       "<style scoped>\n",
       "    .dataframe tbody tr th:only-of-type {\n",
       "        vertical-align: middle;\n",
       "    }\n",
       "\n",
       "    .dataframe tbody tr th {\n",
       "        vertical-align: top;\n",
       "    }\n",
       "\n",
       "    .dataframe thead th {\n",
       "        text-align: right;\n",
       "    }\n",
       "</style>\n",
       "<table border=\"1\" class=\"dataframe\">\n",
       "  <thead>\n",
       "    <tr style=\"text-align: right;\">\n",
       "      <th></th>\n",
       "      <th>id</th>\n",
       "      <th>program_id</th>\n",
       "      <th>program_type</th>\n",
       "      <th>program_duration</th>\n",
       "      <th>test_id</th>\n",
       "      <th>test_type</th>\n",
       "      <th>difficulty_level</th>\n",
       "      <th>trainee_id</th>\n",
       "      <th>gender</th>\n",
       "      <th>education</th>\n",
       "      <th>city_tier</th>\n",
       "      <th>age</th>\n",
       "      <th>total_programs_enrolled</th>\n",
       "      <th>is_handicapped</th>\n",
       "      <th>trainee_engagement_rating</th>\n",
       "      <th>is_pass</th>\n",
       "    </tr>\n",
       "  </thead>\n",
       "  <tbody>\n",
       "    <tr>\n",
       "      <th>0</th>\n",
       "      <td>9389_150</td>\n",
       "      <td>Y_1</td>\n",
       "      <td>Y</td>\n",
       "      <td>136</td>\n",
       "      <td>150</td>\n",
       "      <td>offline</td>\n",
       "      <td>intermediate</td>\n",
       "      <td>9389</td>\n",
       "      <td>M</td>\n",
       "      <td>Matriculation</td>\n",
       "      <td>3</td>\n",
       "      <td>24.0</td>\n",
       "      <td>5</td>\n",
       "      <td>N</td>\n",
       "      <td>1.0</td>\n",
       "      <td>0</td>\n",
       "    </tr>\n",
       "    <tr>\n",
       "      <th>1</th>\n",
       "      <td>16523_44</td>\n",
       "      <td>T_1</td>\n",
       "      <td>T</td>\n",
       "      <td>131</td>\n",
       "      <td>44</td>\n",
       "      <td>offline</td>\n",
       "      <td>easy</td>\n",
       "      <td>16523</td>\n",
       "      <td>F</td>\n",
       "      <td>High School Diploma</td>\n",
       "      <td>4</td>\n",
       "      <td>26.0</td>\n",
       "      <td>2</td>\n",
       "      <td>N</td>\n",
       "      <td>3.0</td>\n",
       "      <td>1</td>\n",
       "    </tr>\n",
       "    <tr>\n",
       "      <th>2</th>\n",
       "      <td>13987_178</td>\n",
       "      <td>Z_2</td>\n",
       "      <td>Z</td>\n",
       "      <td>120</td>\n",
       "      <td>178</td>\n",
       "      <td>online</td>\n",
       "      <td>easy</td>\n",
       "      <td>13987</td>\n",
       "      <td>M</td>\n",
       "      <td>Matriculation</td>\n",
       "      <td>1</td>\n",
       "      <td>40.0</td>\n",
       "      <td>1</td>\n",
       "      <td>N</td>\n",
       "      <td>2.0</td>\n",
       "      <td>1</td>\n",
       "    </tr>\n",
       "    <tr>\n",
       "      <th>3</th>\n",
       "      <td>13158_32</td>\n",
       "      <td>T_2</td>\n",
       "      <td>T</td>\n",
       "      <td>117</td>\n",
       "      <td>32</td>\n",
       "      <td>offline</td>\n",
       "      <td>easy</td>\n",
       "      <td>13158</td>\n",
       "      <td>F</td>\n",
       "      <td>Matriculation</td>\n",
       "      <td>3</td>\n",
       "      <td>NaN</td>\n",
       "      <td>4</td>\n",
       "      <td>N</td>\n",
       "      <td>1.0</td>\n",
       "      <td>1</td>\n",
       "    </tr>\n",
       "    <tr>\n",
       "      <th>4</th>\n",
       "      <td>10591_84</td>\n",
       "      <td>V_3</td>\n",
       "      <td>V</td>\n",
       "      <td>131</td>\n",
       "      <td>84</td>\n",
       "      <td>offline</td>\n",
       "      <td>intermediate</td>\n",
       "      <td>10591</td>\n",
       "      <td>F</td>\n",
       "      <td>High School Diploma</td>\n",
       "      <td>1</td>\n",
       "      <td>42.0</td>\n",
       "      <td>2</td>\n",
       "      <td>N</td>\n",
       "      <td>4.0</td>\n",
       "      <td>1</td>\n",
       "    </tr>\n",
       "  </tbody>\n",
       "</table>\n",
       "</div>"
      ],
      "text/plain": [
       "          id program_id program_type  program_duration  test_id test_type  \\\n",
       "0   9389_150        Y_1            Y               136      150   offline   \n",
       "1   16523_44        T_1            T               131       44   offline   \n",
       "2  13987_178        Z_2            Z               120      178    online   \n",
       "3   13158_32        T_2            T               117       32   offline   \n",
       "4   10591_84        V_3            V               131       84   offline   \n",
       "\n",
       "  difficulty_level  trainee_id gender            education  city_tier   age  \\\n",
       "0     intermediate        9389      M        Matriculation          3  24.0   \n",
       "1             easy       16523      F  High School Diploma          4  26.0   \n",
       "2             easy       13987      M        Matriculation          1  40.0   \n",
       "3             easy       13158      F        Matriculation          3   NaN   \n",
       "4     intermediate       10591      F  High School Diploma          1  42.0   \n",
       "\n",
       "   total_programs_enrolled is_handicapped  trainee_engagement_rating  is_pass  \n",
       "0                        5              N                        1.0        0  \n",
       "1                        2              N                        3.0        1  \n",
       "2                        1              N                        2.0        1  \n",
       "3                        4              N                        1.0        1  \n",
       "4                        2              N                        4.0        1  "
      ]
     },
     "execution_count": 3,
     "metadata": {},
     "output_type": "execute_result"
    }
   ],
   "source": [
    "train.head()"
   ]
  },
  {
   "cell_type": "code",
   "execution_count": 4,
   "metadata": {},
   "outputs": [
    {
     "data": {
      "text/plain": [
       "(73147, 16)"
      ]
     },
     "execution_count": 4,
     "metadata": {},
     "output_type": "execute_result"
    }
   ],
   "source": [
    "train.shape"
   ]
  },
  {
   "cell_type": "code",
   "execution_count": 5,
   "metadata": {},
   "outputs": [
    {
     "name": "stdout",
     "output_type": "stream",
     "text": [
      "<class 'pandas.core.frame.DataFrame'>\n",
      "RangeIndex: 73147 entries, 0 to 73146\n",
      "Data columns (total 16 columns):\n",
      " #   Column                     Non-Null Count  Dtype  \n",
      "---  ------                     --------------  -----  \n",
      " 0   id                         73147 non-null  object \n",
      " 1   program_id                 73147 non-null  object \n",
      " 2   program_type               73147 non-null  object \n",
      " 3   program_duration           73147 non-null  int64  \n",
      " 4   test_id                    73147 non-null  int64  \n",
      " 5   test_type                  73147 non-null  object \n",
      " 6   difficulty_level           73147 non-null  object \n",
      " 7   trainee_id                 73147 non-null  int64  \n",
      " 8   gender                     73147 non-null  object \n",
      " 9   education                  73147 non-null  object \n",
      " 10  city_tier                  73147 non-null  int64  \n",
      " 11  age                        45418 non-null  float64\n",
      " 12  total_programs_enrolled    73147 non-null  int64  \n",
      " 13  is_handicapped             73147 non-null  object \n",
      " 14  trainee_engagement_rating  73070 non-null  float64\n",
      " 15  is_pass                    73147 non-null  int64  \n",
      "dtypes: float64(2), int64(6), object(8)\n",
      "memory usage: 8.9+ MB\n"
     ]
    }
   ],
   "source": [
    "train.info()"
   ]
  },
  {
   "cell_type": "code",
   "execution_count": 6,
   "metadata": {},
   "outputs": [
    {
     "data": {
      "text/plain": [
       "id                               0\n",
       "program_id                       0\n",
       "program_type                     0\n",
       "program_duration                 0\n",
       "test_id                          0\n",
       "test_type                        0\n",
       "difficulty_level                 0\n",
       "trainee_id                       0\n",
       "gender                           0\n",
       "education                        0\n",
       "city_tier                        0\n",
       "age                          27729\n",
       "total_programs_enrolled          0\n",
       "is_handicapped                   0\n",
       "trainee_engagement_rating       77\n",
       "is_pass                          0\n",
       "dtype: int64"
      ]
     },
     "execution_count": 6,
     "metadata": {},
     "output_type": "execute_result"
    }
   ],
   "source": [
    "train.isna().sum()"
   ]
  },
  {
   "cell_type": "code",
   "execution_count": 7,
   "metadata": {},
   "outputs": [],
   "source": [
    "import matplotlib.pyplot as plt\n",
    "import seaborn as sns"
   ]
  },
  {
   "cell_type": "code",
   "execution_count": 8,
   "metadata": {},
   "outputs": [
    {
     "data": {
      "text/plain": [
       "<matplotlib.axes._subplots.AxesSubplot at 0x7f5beef149d0>"
      ]
     },
     "execution_count": 8,
     "metadata": {},
     "output_type": "execute_result"
    },
    {
     "data": {
      "image/png": "[encoded data removed]",
      "text/plain": [
       "<Figure size 864x432 with 3 Axes>"
      ]
     },
     "metadata": {
      "needs_background": "light"
     },
     "output_type": "display_data"
    }
   ],
   "source": [
    "import missingno as msno\n",
    "import matplotlib.pyplot as plt\n",
    "msno.bar(train, figsize=(12, 6), fontsize=12, color='steelblue')"
   ]
  },
  {
   "cell_type": "code",
   "execution_count": 9,
   "metadata": {},
   "outputs": [],
   "source": [
    "features_with_na = [features for features in train.columns if train[features].isnull().sum() > 1]"
   ]
  },
  {
   "cell_type": "code",
   "execution_count": 10,
   "metadata": {},
   "outputs": [
    {
     "name": "stdout",
     "output_type": "stream",
     "text": [
      "age 37.91 %\n",
      "trainee_engagement_rating 0.11 %\n"
     ]
    }
   ],
   "source": [
    "for features in features_with_na:\n",
    "  print(features, np.round(train[features].isna().mean(),4)*100 , '%')\n"
   ]
  },
  {
   "cell_type": "code",
   "execution_count": 11,
   "metadata": {},
   "outputs": [
    {
     "data": {
      "text/html": [
       "<div>\n",
       "<style scoped>\n",
       "    .dataframe tbody tr th:only-of-type {\n",
       "        vertical-align: middle;\n",
       "    }\n",
       "\n",
       "    .dataframe tbody tr th {\n",
       "        vertical-align: top;\n",
       "    }\n",
       "\n",
       "    .dataframe thead th {\n",
       "        text-align: right;\n",
       "    }\n",
       "</style>\n",
       "<table border=\"1\" class=\"dataframe\">\n",
       "  <thead>\n",
       "    <tr style=\"text-align: right;\">\n",
       "      <th></th>\n",
       "      <th>program_duration</th>\n",
       "      <th>test_id</th>\n",
       "      <th>trainee_id</th>\n",
       "      <th>city_tier</th>\n",
       "      <th>age</th>\n",
       "      <th>total_programs_enrolled</th>\n",
       "      <th>trainee_engagement_rating</th>\n",
       "      <th>is_pass</th>\n",
       "    </tr>\n",
       "  </thead>\n",
       "  <tbody>\n",
       "    <tr>\n",
       "      <th>count</th>\n",
       "      <td>73147.000000</td>\n",
       "      <td>73147.000000</td>\n",
       "      <td>73147.000000</td>\n",
       "      <td>73147.000000</td>\n",
       "      <td>45418.000000</td>\n",
       "      <td>73147.000000</td>\n",
       "      <td>73070.000000</td>\n",
       "      <td>73147.000000</td>\n",
       "    </tr>\n",
       "    <tr>\n",
       "      <th>mean</th>\n",
       "      <td>128.208676</td>\n",
       "      <td>91.079306</td>\n",
       "      <td>9843.079620</td>\n",
       "      <td>2.246845</td>\n",
       "      <td>36.494033</td>\n",
       "      <td>2.583934</td>\n",
       "      <td>2.395634</td>\n",
       "      <td>0.695408</td>\n",
       "    </tr>\n",
       "    <tr>\n",
       "      <th>std</th>\n",
       "      <td>6.889679</td>\n",
       "      <td>51.239048</td>\n",
       "      <td>5703.556093</td>\n",
       "      <td>1.011587</td>\n",
       "      <td>9.041119</td>\n",
       "      <td>1.240816</td>\n",
       "      <td>1.325288</td>\n",
       "      <td>0.460238</td>\n",
       "    </tr>\n",
       "    <tr>\n",
       "      <th>min</th>\n",
       "      <td>117.000000</td>\n",
       "      <td>0.000000</td>\n",
       "      <td>1.000000</td>\n",
       "      <td>1.000000</td>\n",
       "      <td>17.000000</td>\n",
       "      <td>1.000000</td>\n",
       "      <td>1.000000</td>\n",
       "      <td>0.000000</td>\n",
       "    </tr>\n",
       "    <tr>\n",
       "      <th>25%</th>\n",
       "      <td>121.000000</td>\n",
       "      <td>45.000000</td>\n",
       "      <td>5040.000000</td>\n",
       "      <td>1.000000</td>\n",
       "      <td>28.000000</td>\n",
       "      <td>2.000000</td>\n",
       "      <td>1.000000</td>\n",
       "      <td>0.000000</td>\n",
       "    </tr>\n",
       "    <tr>\n",
       "      <th>50%</th>\n",
       "      <td>131.000000</td>\n",
       "      <td>90.000000</td>\n",
       "      <td>9641.000000</td>\n",
       "      <td>2.000000</td>\n",
       "      <td>39.000000</td>\n",
       "      <td>2.000000</td>\n",
       "      <td>2.000000</td>\n",
       "      <td>1.000000</td>\n",
       "    </tr>\n",
       "    <tr>\n",
       "      <th>75%</th>\n",
       "      <td>134.000000</td>\n",
       "      <td>135.000000</td>\n",
       "      <td>14552.000000</td>\n",
       "      <td>3.000000</td>\n",
       "      <td>45.000000</td>\n",
       "      <td>3.000000</td>\n",
       "      <td>4.000000</td>\n",
       "      <td>1.000000</td>\n",
       "    </tr>\n",
       "    <tr>\n",
       "      <th>max</th>\n",
       "      <td>136.000000</td>\n",
       "      <td>187.000000</td>\n",
       "      <td>20098.000000</td>\n",
       "      <td>4.000000</td>\n",
       "      <td>63.000000</td>\n",
       "      <td>14.000000</td>\n",
       "      <td>5.000000</td>\n",
       "      <td>1.000000</td>\n",
       "    </tr>\n",
       "  </tbody>\n",
       "</table>\n",
       "</div>"
      ],
      "text/plain": [
       "       program_duration       test_id    trainee_id     city_tier  \\\n",
       "count      73147.000000  73147.000000  73147.000000  73147.000000   \n",
       "mean         128.208676     91.079306   9843.079620      2.246845   \n",
       "std            6.889679     51.239048   5703.556093      1.011587   \n",
       "min          117.000000      0.000000      1.000000      1.000000   \n",
       "25%          121.000000     45.000000   5040.000000      1.000000   \n",
       "50%          131.000000     90.000000   9641.000000      2.000000   \n",
       "75%          134.000000    135.000000  14552.000000      3.000000   \n",
       "max          136.000000    187.000000  20098.000000      4.000000   \n",
       "\n",
       "                age  total_programs_enrolled  trainee_engagement_rating  \\\n",
       "count  45418.000000             73147.000000               73070.000000   \n",
       "mean      36.494033                 2.583934                   2.395634   \n",
       "std        9.041119                 1.240816                   1.325288   \n",
       "min       17.000000                 1.000000                   1.000000   \n",
       "25%       28.000000                 2.000000                   1.000000   \n",
       "50%       39.000000                 2.000000                   2.000000   \n",
       "75%       45.000000                 3.000000                   4.000000   \n",
       "max       63.000000                14.000000                   5.000000   \n",
       "\n",
       "            is_pass  \n",
       "count  73147.000000  \n",
       "mean       0.695408  \n",
       "std        0.460238  \n",
       "min        0.000000  \n",
       "25%        0.000000  \n",
       "50%        1.000000  \n",
       "75%        1.000000  \n",
       "max        1.000000  "
      ]
     },
     "execution_count": 11,
     "metadata": {},
     "output_type": "execute_result"
    }
   ],
   "source": [
    "train.describe()"
   ]
  },
  {
   "cell_type": "code",
   "execution_count": 12,
   "metadata": {},
   "outputs": [
    {
     "data": {
      "text/html": [
       "<div>\n",
       "<style scoped>\n",
       "    .dataframe tbody tr th:only-of-type {\n",
       "        vertical-align: middle;\n",
       "    }\n",
       "\n",
       "    .dataframe tbody tr th {\n",
       "        vertical-align: top;\n",
       "    }\n",
       "\n",
       "    .dataframe thead th {\n",
       "        text-align: right;\n",
       "    }\n",
       "</style>\n",
       "<table border=\"1\" class=\"dataframe\">\n",
       "  <thead>\n",
       "    <tr style=\"text-align: right;\">\n",
       "      <th></th>\n",
       "      <th>id</th>\n",
       "      <th>program_id</th>\n",
       "      <th>program_type</th>\n",
       "      <th>program_duration</th>\n",
       "      <th>test_id</th>\n",
       "      <th>test_type</th>\n",
       "      <th>difficulty_level</th>\n",
       "      <th>trainee_id</th>\n",
       "      <th>gender</th>\n",
       "      <th>education</th>\n",
       "      <th>city_tier</th>\n",
       "      <th>age</th>\n",
       "      <th>total_programs_enrolled</th>\n",
       "      <th>is_handicapped</th>\n",
       "      <th>trainee_engagement_rating</th>\n",
       "      <th>is_pass</th>\n",
       "    </tr>\n",
       "  </thead>\n",
       "  <tbody>\n",
       "    <tr>\n",
       "      <th>3051</th>\n",
       "      <td>4392_29</td>\n",
       "      <td>T_3</td>\n",
       "      <td>T</td>\n",
       "      <td>134</td>\n",
       "      <td>29</td>\n",
       "      <td>online</td>\n",
       "      <td>easy</td>\n",
       "      <td>4392</td>\n",
       "      <td>F</td>\n",
       "      <td>Matriculation</td>\n",
       "      <td>2</td>\n",
       "      <td>NaN</td>\n",
       "      <td>4</td>\n",
       "      <td>N</td>\n",
       "      <td>NaN</td>\n",
       "      <td>1</td>\n",
       "    </tr>\n",
       "    <tr>\n",
       "      <th>9294</th>\n",
       "      <td>18526_98</td>\n",
       "      <td>V_1</td>\n",
       "      <td>V</td>\n",
       "      <td>133</td>\n",
       "      <td>98</td>\n",
       "      <td>offline</td>\n",
       "      <td>hard</td>\n",
       "      <td>18526</td>\n",
       "      <td>M</td>\n",
       "      <td>Bachelors</td>\n",
       "      <td>2</td>\n",
       "      <td>NaN</td>\n",
       "      <td>2</td>\n",
       "      <td>N</td>\n",
       "      <td>NaN</td>\n",
       "      <td>0</td>\n",
       "    </tr>\n",
       "    <tr>\n",
       "      <th>11264</th>\n",
       "      <td>12899_59</td>\n",
       "      <td>U_1</td>\n",
       "      <td>U</td>\n",
       "      <td>134</td>\n",
       "      <td>59</td>\n",
       "      <td>offline</td>\n",
       "      <td>intermediate</td>\n",
       "      <td>12899</td>\n",
       "      <td>M</td>\n",
       "      <td>High School Diploma</td>\n",
       "      <td>3</td>\n",
       "      <td>NaN</td>\n",
       "      <td>3</td>\n",
       "      <td>N</td>\n",
       "      <td>NaN</td>\n",
       "      <td>0</td>\n",
       "    </tr>\n",
       "    <tr>\n",
       "      <th>12211</th>\n",
       "      <td>10763_74</td>\n",
       "      <td>V_4</td>\n",
       "      <td>V</td>\n",
       "      <td>122</td>\n",
       "      <td>74</td>\n",
       "      <td>online</td>\n",
       "      <td>easy</td>\n",
       "      <td>10763</td>\n",
       "      <td>F</td>\n",
       "      <td>Matriculation</td>\n",
       "      <td>3</td>\n",
       "      <td>NaN</td>\n",
       "      <td>4</td>\n",
       "      <td>Y</td>\n",
       "      <td>NaN</td>\n",
       "      <td>1</td>\n",
       "    </tr>\n",
       "    <tr>\n",
       "      <th>15270</th>\n",
       "      <td>4392_28</td>\n",
       "      <td>T_3</td>\n",
       "      <td>T</td>\n",
       "      <td>134</td>\n",
       "      <td>28</td>\n",
       "      <td>online</td>\n",
       "      <td>easy</td>\n",
       "      <td>4392</td>\n",
       "      <td>F</td>\n",
       "      <td>Matriculation</td>\n",
       "      <td>2</td>\n",
       "      <td>NaN</td>\n",
       "      <td>4</td>\n",
       "      <td>N</td>\n",
       "      <td>NaN</td>\n",
       "      <td>1</td>\n",
       "    </tr>\n",
       "    <tr>\n",
       "      <th>15446</th>\n",
       "      <td>11930_39</td>\n",
       "      <td>T_2</td>\n",
       "      <td>T</td>\n",
       "      <td>117</td>\n",
       "      <td>39</td>\n",
       "      <td>online</td>\n",
       "      <td>easy</td>\n",
       "      <td>11930</td>\n",
       "      <td>F</td>\n",
       "      <td>Matriculation</td>\n",
       "      <td>3</td>\n",
       "      <td>NaN</td>\n",
       "      <td>6</td>\n",
       "      <td>N</td>\n",
       "      <td>NaN</td>\n",
       "      <td>1</td>\n",
       "    </tr>\n",
       "    <tr>\n",
       "      <th>20219</th>\n",
       "      <td>12899_57</td>\n",
       "      <td>U_1</td>\n",
       "      <td>U</td>\n",
       "      <td>134</td>\n",
       "      <td>57</td>\n",
       "      <td>offline</td>\n",
       "      <td>easy</td>\n",
       "      <td>12899</td>\n",
       "      <td>M</td>\n",
       "      <td>High School Diploma</td>\n",
       "      <td>3</td>\n",
       "      <td>NaN</td>\n",
       "      <td>3</td>\n",
       "      <td>N</td>\n",
       "      <td>NaN</td>\n",
       "      <td>1</td>\n",
       "    </tr>\n",
       "    <tr>\n",
       "      <th>20400</th>\n",
       "      <td>1915_27</td>\n",
       "      <td>T_3</td>\n",
       "      <td>T</td>\n",
       "      <td>134</td>\n",
       "      <td>27</td>\n",
       "      <td>online</td>\n",
       "      <td>easy</td>\n",
       "      <td>1915</td>\n",
       "      <td>F</td>\n",
       "      <td>Matriculation</td>\n",
       "      <td>2</td>\n",
       "      <td>NaN</td>\n",
       "      <td>4</td>\n",
       "      <td>N</td>\n",
       "      <td>NaN</td>\n",
       "      <td>1</td>\n",
       "    </tr>\n",
       "    <tr>\n",
       "      <th>20762</th>\n",
       "      <td>12899_62</td>\n",
       "      <td>U_1</td>\n",
       "      <td>U</td>\n",
       "      <td>134</td>\n",
       "      <td>62</td>\n",
       "      <td>online</td>\n",
       "      <td>easy</td>\n",
       "      <td>12899</td>\n",
       "      <td>M</td>\n",
       "      <td>High School Diploma</td>\n",
       "      <td>3</td>\n",
       "      <td>NaN</td>\n",
       "      <td>3</td>\n",
       "      <td>N</td>\n",
       "      <td>NaN</td>\n",
       "      <td>1</td>\n",
       "    </tr>\n",
       "    <tr>\n",
       "      <th>21280</th>\n",
       "      <td>12899_64</td>\n",
       "      <td>U_1</td>\n",
       "      <td>U</td>\n",
       "      <td>134</td>\n",
       "      <td>64</td>\n",
       "      <td>online</td>\n",
       "      <td>easy</td>\n",
       "      <td>12899</td>\n",
       "      <td>M</td>\n",
       "      <td>High School Diploma</td>\n",
       "      <td>3</td>\n",
       "      <td>NaN</td>\n",
       "      <td>3</td>\n",
       "      <td>N</td>\n",
       "      <td>NaN</td>\n",
       "      <td>0</td>\n",
       "    </tr>\n",
       "    <tr>\n",
       "      <th>26232</th>\n",
       "      <td>3823_22</td>\n",
       "      <td>T_3</td>\n",
       "      <td>T</td>\n",
       "      <td>134</td>\n",
       "      <td>22</td>\n",
       "      <td>offline</td>\n",
       "      <td>intermediate</td>\n",
       "      <td>3823</td>\n",
       "      <td>F</td>\n",
       "      <td>High School Diploma</td>\n",
       "      <td>3</td>\n",
       "      <td>NaN</td>\n",
       "      <td>2</td>\n",
       "      <td>N</td>\n",
       "      <td>NaN</td>\n",
       "      <td>0</td>\n",
       "    </tr>\n",
       "    <tr>\n",
       "      <th>31313</th>\n",
       "      <td>7912_32</td>\n",
       "      <td>T_2</td>\n",
       "      <td>T</td>\n",
       "      <td>117</td>\n",
       "      <td>32</td>\n",
       "      <td>offline</td>\n",
       "      <td>easy</td>\n",
       "      <td>7912</td>\n",
       "      <td>F</td>\n",
       "      <td>Matriculation</td>\n",
       "      <td>1</td>\n",
       "      <td>NaN</td>\n",
       "      <td>2</td>\n",
       "      <td>N</td>\n",
       "      <td>NaN</td>\n",
       "      <td>1</td>\n",
       "    </tr>\n",
       "    <tr>\n",
       "      <th>31778</th>\n",
       "      <td>7912_38</td>\n",
       "      <td>T_2</td>\n",
       "      <td>T</td>\n",
       "      <td>117</td>\n",
       "      <td>38</td>\n",
       "      <td>online</td>\n",
       "      <td>easy</td>\n",
       "      <td>7912</td>\n",
       "      <td>F</td>\n",
       "      <td>Matriculation</td>\n",
       "      <td>1</td>\n",
       "      <td>NaN</td>\n",
       "      <td>2</td>\n",
       "      <td>N</td>\n",
       "      <td>NaN</td>\n",
       "      <td>1</td>\n",
       "    </tr>\n",
       "    <tr>\n",
       "      <th>35277</th>\n",
       "      <td>18526_97</td>\n",
       "      <td>V_1</td>\n",
       "      <td>V</td>\n",
       "      <td>133</td>\n",
       "      <td>97</td>\n",
       "      <td>offline</td>\n",
       "      <td>hard</td>\n",
       "      <td>18526</td>\n",
       "      <td>M</td>\n",
       "      <td>Bachelors</td>\n",
       "      <td>2</td>\n",
       "      <td>NaN</td>\n",
       "      <td>2</td>\n",
       "      <td>N</td>\n",
       "      <td>NaN</td>\n",
       "      <td>1</td>\n",
       "    </tr>\n",
       "    <tr>\n",
       "      <th>35659</th>\n",
       "      <td>4392_22</td>\n",
       "      <td>T_3</td>\n",
       "      <td>T</td>\n",
       "      <td>134</td>\n",
       "      <td>22</td>\n",
       "      <td>offline</td>\n",
       "      <td>intermediate</td>\n",
       "      <td>4392</td>\n",
       "      <td>F</td>\n",
       "      <td>Matriculation</td>\n",
       "      <td>2</td>\n",
       "      <td>NaN</td>\n",
       "      <td>4</td>\n",
       "      <td>N</td>\n",
       "      <td>NaN</td>\n",
       "      <td>1</td>\n",
       "    </tr>\n",
       "    <tr>\n",
       "      <th>37128</th>\n",
       "      <td>12899_60</td>\n",
       "      <td>U_1</td>\n",
       "      <td>U</td>\n",
       "      <td>134</td>\n",
       "      <td>60</td>\n",
       "      <td>offline</td>\n",
       "      <td>intermediate</td>\n",
       "      <td>12899</td>\n",
       "      <td>M</td>\n",
       "      <td>High School Diploma</td>\n",
       "      <td>3</td>\n",
       "      <td>NaN</td>\n",
       "      <td>3</td>\n",
       "      <td>N</td>\n",
       "      <td>NaN</td>\n",
       "      <td>0</td>\n",
       "    </tr>\n",
       "    <tr>\n",
       "      <th>38684</th>\n",
       "      <td>4576_150</td>\n",
       "      <td>Y_1</td>\n",
       "      <td>Y</td>\n",
       "      <td>136</td>\n",
       "      <td>150</td>\n",
       "      <td>offline</td>\n",
       "      <td>intermediate</td>\n",
       "      <td>4576</td>\n",
       "      <td>M</td>\n",
       "      <td>Matriculation</td>\n",
       "      <td>1</td>\n",
       "      <td>NaN</td>\n",
       "      <td>4</td>\n",
       "      <td>N</td>\n",
       "      <td>NaN</td>\n",
       "      <td>0</td>\n",
       "    </tr>\n",
       "    <tr>\n",
       "      <th>39662</th>\n",
       "      <td>3823_27</td>\n",
       "      <td>T_3</td>\n",
       "      <td>T</td>\n",
       "      <td>134</td>\n",
       "      <td>27</td>\n",
       "      <td>online</td>\n",
       "      <td>easy</td>\n",
       "      <td>3823</td>\n",
       "      <td>F</td>\n",
       "      <td>High School Diploma</td>\n",
       "      <td>3</td>\n",
       "      <td>NaN</td>\n",
       "      <td>2</td>\n",
       "      <td>N</td>\n",
       "      <td>NaN</td>\n",
       "      <td>1</td>\n",
       "    </tr>\n",
       "    <tr>\n",
       "      <th>44509</th>\n",
       "      <td>12899_63</td>\n",
       "      <td>U_1</td>\n",
       "      <td>U</td>\n",
       "      <td>134</td>\n",
       "      <td>63</td>\n",
       "      <td>online</td>\n",
       "      <td>easy</td>\n",
       "      <td>12899</td>\n",
       "      <td>M</td>\n",
       "      <td>High School Diploma</td>\n",
       "      <td>3</td>\n",
       "      <td>NaN</td>\n",
       "      <td>3</td>\n",
       "      <td>N</td>\n",
       "      <td>NaN</td>\n",
       "      <td>0</td>\n",
       "    </tr>\n",
       "    <tr>\n",
       "      <th>48693</th>\n",
       "      <td>18526_99</td>\n",
       "      <td>V_1</td>\n",
       "      <td>V</td>\n",
       "      <td>133</td>\n",
       "      <td>99</td>\n",
       "      <td>offline</td>\n",
       "      <td>hard</td>\n",
       "      <td>18526</td>\n",
       "      <td>M</td>\n",
       "      <td>Bachelors</td>\n",
       "      <td>2</td>\n",
       "      <td>NaN</td>\n",
       "      <td>2</td>\n",
       "      <td>N</td>\n",
       "      <td>NaN</td>\n",
       "      <td>0</td>\n",
       "    </tr>\n",
       "    <tr>\n",
       "      <th>49388</th>\n",
       "      <td>18526_95</td>\n",
       "      <td>V_1</td>\n",
       "      <td>V</td>\n",
       "      <td>133</td>\n",
       "      <td>95</td>\n",
       "      <td>offline</td>\n",
       "      <td>easy</td>\n",
       "      <td>18526</td>\n",
       "      <td>M</td>\n",
       "      <td>Bachelors</td>\n",
       "      <td>2</td>\n",
       "      <td>NaN</td>\n",
       "      <td>2</td>\n",
       "      <td>N</td>\n",
       "      <td>NaN</td>\n",
       "      <td>0</td>\n",
       "    </tr>\n",
       "    <tr>\n",
       "      <th>49498</th>\n",
       "      <td>3823_21</td>\n",
       "      <td>T_3</td>\n",
       "      <td>T</td>\n",
       "      <td>134</td>\n",
       "      <td>21</td>\n",
       "      <td>offline</td>\n",
       "      <td>easy</td>\n",
       "      <td>3823</td>\n",
       "      <td>F</td>\n",
       "      <td>High School Diploma</td>\n",
       "      <td>3</td>\n",
       "      <td>NaN</td>\n",
       "      <td>2</td>\n",
       "      <td>N</td>\n",
       "      <td>NaN</td>\n",
       "      <td>1</td>\n",
       "    </tr>\n",
       "    <tr>\n",
       "      <th>50603</th>\n",
       "      <td>6678_29</td>\n",
       "      <td>T_3</td>\n",
       "      <td>T</td>\n",
       "      <td>134</td>\n",
       "      <td>29</td>\n",
       "      <td>online</td>\n",
       "      <td>easy</td>\n",
       "      <td>6678</td>\n",
       "      <td>F</td>\n",
       "      <td>Matriculation</td>\n",
       "      <td>1</td>\n",
       "      <td>NaN</td>\n",
       "      <td>2</td>\n",
       "      <td>N</td>\n",
       "      <td>NaN</td>\n",
       "      <td>1</td>\n",
       "    </tr>\n",
       "    <tr>\n",
       "      <th>53216</th>\n",
       "      <td>2076_61</td>\n",
       "      <td>U_1</td>\n",
       "      <td>U</td>\n",
       "      <td>134</td>\n",
       "      <td>61</td>\n",
       "      <td>online</td>\n",
       "      <td>easy</td>\n",
       "      <td>2076</td>\n",
       "      <td>F</td>\n",
       "      <td>Matriculation</td>\n",
       "      <td>1</td>\n",
       "      <td>NaN</td>\n",
       "      <td>2</td>\n",
       "      <td>N</td>\n",
       "      <td>NaN</td>\n",
       "      <td>0</td>\n",
       "    </tr>\n",
       "    <tr>\n",
       "      <th>56112</th>\n",
       "      <td>18526_94</td>\n",
       "      <td>V_1</td>\n",
       "      <td>V</td>\n",
       "      <td>133</td>\n",
       "      <td>94</td>\n",
       "      <td>offline</td>\n",
       "      <td>easy</td>\n",
       "      <td>18526</td>\n",
       "      <td>M</td>\n",
       "      <td>Bachelors</td>\n",
       "      <td>2</td>\n",
       "      <td>NaN</td>\n",
       "      <td>2</td>\n",
       "      <td>N</td>\n",
       "      <td>NaN</td>\n",
       "      <td>0</td>\n",
       "    </tr>\n",
       "    <tr>\n",
       "      <th>57121</th>\n",
       "      <td>1066_111</td>\n",
       "      <td>X_1</td>\n",
       "      <td>X</td>\n",
       "      <td>134</td>\n",
       "      <td>111</td>\n",
       "      <td>offline</td>\n",
       "      <td>hard</td>\n",
       "      <td>1066</td>\n",
       "      <td>M</td>\n",
       "      <td>Masters</td>\n",
       "      <td>1</td>\n",
       "      <td>NaN</td>\n",
       "      <td>2</td>\n",
       "      <td>N</td>\n",
       "      <td>NaN</td>\n",
       "      <td>1</td>\n",
       "    </tr>\n",
       "    <tr>\n",
       "      <th>59363</th>\n",
       "      <td>6678_21</td>\n",
       "      <td>T_3</td>\n",
       "      <td>T</td>\n",
       "      <td>134</td>\n",
       "      <td>21</td>\n",
       "      <td>offline</td>\n",
       "      <td>easy</td>\n",
       "      <td>6678</td>\n",
       "      <td>F</td>\n",
       "      <td>Matriculation</td>\n",
       "      <td>1</td>\n",
       "      <td>NaN</td>\n",
       "      <td>2</td>\n",
       "      <td>N</td>\n",
       "      <td>NaN</td>\n",
       "      <td>0</td>\n",
       "    </tr>\n",
       "    <tr>\n",
       "      <th>63474</th>\n",
       "      <td>11930_34</td>\n",
       "      <td>T_2</td>\n",
       "      <td>T</td>\n",
       "      <td>117</td>\n",
       "      <td>34</td>\n",
       "      <td>offline</td>\n",
       "      <td>intermediate</td>\n",
       "      <td>11930</td>\n",
       "      <td>F</td>\n",
       "      <td>Matriculation</td>\n",
       "      <td>3</td>\n",
       "      <td>NaN</td>\n",
       "      <td>6</td>\n",
       "      <td>N</td>\n",
       "      <td>NaN</td>\n",
       "      <td>0</td>\n",
       "    </tr>\n",
       "    <tr>\n",
       "      <th>66194</th>\n",
       "      <td>1066_110</td>\n",
       "      <td>X_1</td>\n",
       "      <td>X</td>\n",
       "      <td>134</td>\n",
       "      <td>110</td>\n",
       "      <td>offline</td>\n",
       "      <td>hard</td>\n",
       "      <td>1066</td>\n",
       "      <td>M</td>\n",
       "      <td>Masters</td>\n",
       "      <td>1</td>\n",
       "      <td>NaN</td>\n",
       "      <td>2</td>\n",
       "      <td>N</td>\n",
       "      <td>NaN</td>\n",
       "      <td>1</td>\n",
       "    </tr>\n",
       "    <tr>\n",
       "      <th>68908</th>\n",
       "      <td>6678_22</td>\n",
       "      <td>T_3</td>\n",
       "      <td>T</td>\n",
       "      <td>134</td>\n",
       "      <td>22</td>\n",
       "      <td>offline</td>\n",
       "      <td>intermediate</td>\n",
       "      <td>6678</td>\n",
       "      <td>F</td>\n",
       "      <td>Matriculation</td>\n",
       "      <td>1</td>\n",
       "      <td>NaN</td>\n",
       "      <td>2</td>\n",
       "      <td>N</td>\n",
       "      <td>NaN</td>\n",
       "      <td>0</td>\n",
       "    </tr>\n",
       "    <tr>\n",
       "      <th>72091</th>\n",
       "      <td>1066_109</td>\n",
       "      <td>X_1</td>\n",
       "      <td>X</td>\n",
       "      <td>134</td>\n",
       "      <td>109</td>\n",
       "      <td>offline</td>\n",
       "      <td>intermediate</td>\n",
       "      <td>1066</td>\n",
       "      <td>M</td>\n",
       "      <td>Masters</td>\n",
       "      <td>1</td>\n",
       "      <td>NaN</td>\n",
       "      <td>2</td>\n",
       "      <td>N</td>\n",
       "      <td>NaN</td>\n",
       "      <td>1</td>\n",
       "    </tr>\n",
       "  </tbody>\n",
       "</table>\n",
       "</div>"
      ],
      "text/plain": [
       "             id program_id program_type  program_duration  test_id test_type  \\\n",
       "3051    4392_29        T_3            T               134       29    online   \n",
       "9294   18526_98        V_1            V               133       98   offline   \n",
       "11264  12899_59        U_1            U               134       59   offline   \n",
       "12211  10763_74        V_4            V               122       74    online   \n",
       "15270   4392_28        T_3            T               134       28    online   \n",
       "15446  11930_39        T_2            T               117       39    online   \n",
       "20219  12899_57        U_1            U               134       57   offline   \n",
       "20400   1915_27        T_3            T               134       27    online   \n",
       "20762  12899_62        U_1            U               134       62    online   \n",
       "21280  12899_64        U_1            U               134       64    online   \n",
       "26232   3823_22        T_3            T               134       22   offline   \n",
       "31313   7912_32        T_2            T               117       32   offline   \n",
       "31778   7912_38        T_2            T               117       38    online   \n",
       "35277  18526_97        V_1            V               133       97   offline   \n",
       "35659   4392_22        T_3            T               134       22   offline   \n",
       "37128  12899_60        U_1            U               134       60   offline   \n",
       "38684  4576_150        Y_1            Y               136      150   offline   \n",
       "39662   3823_27        T_3            T               134       27    online   \n",
       "44509  12899_63        U_1            U               134       63    online   \n",
       "48693  18526_99        V_1            V               133       99   offline   \n",
       "49388  18526_95        V_1            V               133       95   offline   \n",
       "49498   3823_21        T_3            T               134       21   offline   \n",
       "50603   6678_29        T_3            T               134       29    online   \n",
       "53216   2076_61        U_1            U               134       61    online   \n",
       "56112  18526_94        V_1            V               133       94   offline   \n",
       "57121  1066_111        X_1            X               134      111   offline   \n",
       "59363   6678_21        T_3            T               134       21   offline   \n",
       "63474  11930_34        T_2            T               117       34   offline   \n",
       "66194  1066_110        X_1            X               134      110   offline   \n",
       "68908   6678_22        T_3            T               134       22   offline   \n",
       "72091  1066_109        X_1            X               134      109   offline   \n",
       "\n",
       "      difficulty_level  trainee_id gender            education  city_tier  \\\n",
       "3051              easy        4392      F        Matriculation          2   \n",
       "9294              hard       18526      M            Bachelors          2   \n",
       "11264     intermediate       12899      M  High School Diploma          3   \n",
       "12211             easy       10763      F        Matriculation          3   \n",
       "15270             easy        4392      F        Matriculation          2   \n",
       "15446             easy       11930      F        Matriculation          3   \n",
       "20219             easy       12899      M  High School Diploma          3   \n",
       "20400             easy        1915      F        Matriculation          2   \n",
       "20762             easy       12899      M  High School Diploma          3   \n",
       "21280             easy       12899      M  High School Diploma          3   \n",
       "26232     intermediate        3823      F  High School Diploma          3   \n",
       "31313             easy        7912      F        Matriculation          1   \n",
       "31778             easy        7912      F        Matriculation          1   \n",
       "35277             hard       18526      M            Bachelors          2   \n",
       "35659     intermediate        4392      F        Matriculation          2   \n",
       "37128     intermediate       12899      M  High School Diploma          3   \n",
       "38684     intermediate        4576      M        Matriculation          1   \n",
       "39662             easy        3823      F  High School Diploma          3   \n",
       "44509             easy       12899      M  High School Diploma          3   \n",
       "48693             hard       18526      M            Bachelors          2   \n",
       "49388             easy       18526      M            Bachelors          2   \n",
       "49498             easy        3823      F  High School Diploma          3   \n",
       "50603             easy        6678      F        Matriculation          1   \n",
       "53216             easy        2076      F        Matriculation          1   \n",
       "56112             easy       18526      M            Bachelors          2   \n",
       "57121             hard        1066      M              Masters          1   \n",
       "59363             easy        6678      F        Matriculation          1   \n",
       "63474     intermediate       11930      F        Matriculation          3   \n",
       "66194             hard        1066      M              Masters          1   \n",
       "68908     intermediate        6678      F        Matriculation          1   \n",
       "72091     intermediate        1066      M              Masters          1   \n",
       "\n",
       "       age  total_programs_enrolled is_handicapped  trainee_engagement_rating  \\\n",
       "3051   NaN                        4              N                        NaN   \n",
       "9294   NaN                        2              N                        NaN   \n",
       "11264  NaN                        3              N                        NaN   \n",
       "12211  NaN                        4              Y                        NaN   \n",
       "15270  NaN                        4              N                        NaN   \n",
       "15446  NaN                        6              N                        NaN   \n",
       "20219  NaN                        3              N                        NaN   \n",
       "20400  NaN                        4              N                        NaN   \n",
       "20762  NaN                        3              N                        NaN   \n",
       "21280  NaN                        3              N                        NaN   \n",
       "26232  NaN                        2              N                        NaN   \n",
       "31313  NaN                        2              N                        NaN   \n",
       "31778  NaN                        2              N                        NaN   \n",
       "35277  NaN                        2              N                        NaN   \n",
       "35659  NaN                        4              N                        NaN   \n",
       "37128  NaN                        3              N                        NaN   \n",
       "38684  NaN                        4              N                        NaN   \n",
       "39662  NaN                        2              N                        NaN   \n",
       "44509  NaN                        3              N                        NaN   \n",
       "48693  NaN                        2              N                        NaN   \n",
       "49388  NaN                        2              N                        NaN   \n",
       "49498  NaN                        2              N                        NaN   \n",
       "50603  NaN                        2              N                        NaN   \n",
       "53216  NaN                        2              N                        NaN   \n",
       "56112  NaN                        2              N                        NaN   \n",
       "57121  NaN                        2              N                        NaN   \n",
       "59363  NaN                        2              N                        NaN   \n",
       "63474  NaN                        6              N                        NaN   \n",
       "66194  NaN                        2              N                        NaN   \n",
       "68908  NaN                        2              N                        NaN   \n",
       "72091  NaN                        2              N                        NaN   \n",
       "\n",
       "       is_pass  \n",
       "3051         1  \n",
       "9294         0  \n",
       "11264        0  \n",
       "12211        1  \n",
       "15270        1  \n",
       "15446        1  \n",
       "20219        1  \n",
       "20400        1  \n",
       "20762        1  \n",
       "21280        0  \n",
       "26232        0  \n",
       "31313        1  \n",
       "31778        1  \n",
       "35277        1  \n",
       "35659        1  \n",
       "37128        0  \n",
       "38684        0  \n",
       "39662        1  \n",
       "44509        0  \n",
       "48693        0  \n",
       "49388        0  \n",
       "49498        1  \n",
       "50603        1  \n",
       "53216        0  \n",
       "56112        0  \n",
       "57121        1  \n",
       "59363        0  \n",
       "63474        0  \n",
       "66194        1  \n",
       "68908        0  \n",
       "72091        1  "
      ]
     },
     "execution_count": 12,
     "metadata": {},
     "output_type": "execute_result"
    }
   ],
   "source": [
    "train[train['age'].isna() & train['trainee_engagement_rating'].isna()]"
   ]
  },
  {
   "cell_type": "code",
   "execution_count": 13,
   "metadata": {},
   "outputs": [
    {
     "data": {
      "text/plain": [
       "77"
      ]
     },
     "execution_count": 13,
     "metadata": {},
     "output_type": "execute_result"
    }
   ],
   "source": [
    "train['trainee_engagement_rating'].isna().sum()"
   ]
  },
  {
   "cell_type": "code",
   "execution_count": 14,
   "metadata": {},
   "outputs": [
    {
     "data": {
      "image/png": "[encoded data removed]",
      "text/plain": [
       "<Figure size 432x288 with 1 Axes>"
      ]
     },
     "metadata": {
      "needs_background": "light"
     },
     "output_type": "display_data"
    },
    {
     "data": {
      "image/png": "[encoded data removed]",
      "text/plain": [
       "<Figure size 432x288 with 1 Axes>"
      ]
     },
     "metadata": {
      "needs_background": "light"
     },
     "output_type": "display_data"
    }
   ],
   "source": [
    "#Knowing whether missing values have impact on dependent variable (is_pass)\n",
    "for features in features_with_na:\n",
    "    data = train.copy()\n",
    "  #Lets make a variable that indicate 1 if observation(record in that feature) was missing or else 0\n",
    "    data[features] = np.where(data[features].isna(),1 , 0)\n",
    "    #Lets calculate the mean SalesPrice where information was missing and present\n",
    "    data.groupby(features)['is_pass'].median().plot.bar()\n",
    "    plt.title(features)\n",
    "    plt.show()"
   ]
  },
  {
   "cell_type": "code",
   "execution_count": 15,
   "metadata": {},
   "outputs": [
    {
     "data": {
      "text/plain": [
       "1.0    25595\n",
       "2.0    17234\n",
       "4.0    13113\n",
       "3.0    11553\n",
       "5.0     5575\n",
       "NaN       77\n",
       "Name: trainee_engagement_rating, dtype: int64"
      ]
     },
     "execution_count": 15,
     "metadata": {},
     "output_type": "execute_result"
    }
   ],
   "source": [
    "train['trainee_engagement_rating'].value_counts(dropna=False)"
   ]
  },
  {
   "cell_type": "code",
   "execution_count": 16,
   "metadata": {},
   "outputs": [],
   "source": [
    "train['trainee_engagement_rating'].fillna(value = 1,inplace = True)"
   ]
  },
  {
   "cell_type": "code",
   "execution_count": 17,
   "metadata": {},
   "outputs": [
    {
     "data": {
      "text/plain": [
       "education\n",
       "Bachelors              39.360736\n",
       "High School Diploma    35.214935\n",
       "Masters                43.587838\n",
       "Matriculation          36.480293\n",
       "No Qualification       34.073260\n",
       "Name: age, dtype: float64"
      ]
     },
     "execution_count": 17,
     "metadata": {},
     "output_type": "execute_result"
    }
   ],
   "source": [
    "train.groupby('education')['age'].mean()"
   ]
  },
  {
   "cell_type": "code",
   "execution_count": 18,
   "metadata": {},
   "outputs": [
    {
     "data": {
      "text/plain": [
       "0        36.494033\n",
       "1        36.494033\n",
       "2        36.494033\n",
       "3        36.494033\n",
       "4        36.494033\n",
       "           ...    \n",
       "73142    36.494033\n",
       "73143    36.494033\n",
       "73144    36.494033\n",
       "73145    36.494033\n",
       "73146    36.494033\n",
       "Name: age, Length: 73147, dtype: float64"
      ]
     },
     "execution_count": 18,
     "metadata": {},
     "output_type": "execute_result"
    }
   ],
   "source": [
    "train['age'].isna().apply(lambda x : train['age'].mean())"
   ]
  },
  {
   "cell_type": "code",
   "execution_count": 19,
   "metadata": {},
   "outputs": [],
   "source": [
    "map_mean = dict(train.groupby('education')['age'].mean())"
   ]
  },
  {
   "cell_type": "code",
   "execution_count": 20,
   "metadata": {},
   "outputs": [
    {
     "data": {
      "text/plain": [
       "{'Bachelors': 39.36073619631902,\n",
       " 'High School Diploma': 35.21493461116103,\n",
       " 'Masters': 43.58783783783784,\n",
       " 'Matriculation': 36.48029303142217,\n",
       " 'No Qualification': 34.07326007326007}"
      ]
     },
     "execution_count": 20,
     "metadata": {},
     "output_type": "execute_result"
    }
   ],
   "source": [
    "map_mean"
   ]
  },
  {
   "cell_type": "code",
   "execution_count": 21,
   "metadata": {},
   "outputs": [],
   "source": [
    "train.fillna(train.groupby('education').transform('mean'),inplace = True)"
   ]
  },
  {
   "cell_type": "code",
   "execution_count": 22,
   "metadata": {},
   "outputs": [
    {
     "data": {
      "text/plain": [
       "35.214935    14337\n",
       "36.480293     9652\n",
       "45.000000     4043\n",
       "44.000000     3723\n",
       "39.360736     3431\n",
       "28.000000     3211\n",
       "43.000000     3136\n",
       "27.000000     3005\n",
       "46.000000     2990\n",
       "29.000000     2730\n",
       "26.000000     2445\n",
       "30.000000     2169\n",
       "42.000000     2023\n",
       "47.000000     1999\n",
       "25.000000     1904\n",
       "31.000000     1602\n",
       "41.000000     1243\n",
       "24.000000     1240\n",
       "48.000000     1207\n",
       "32.000000      969\n",
       "23.000000      699\n",
       "49.000000      651\n",
       "33.000000      595\n",
       "40.000000      562\n",
       "22.000000      400\n",
       "34.000000      318\n",
       "39.000000      277\n",
       "50.000000      276\n",
       "21.000000      269\n",
       "34.073260      241\n",
       "56.000000      213\n",
       "35.000000      210\n",
       "57.000000      196\n",
       "38.000000      175\n",
       "51.000000      166\n",
       "36.000000      138\n",
       "37.000000      136\n",
       "20.000000       89\n",
       "55.000000       70\n",
       "43.587838       68\n",
       "58.000000       64\n",
       "52.000000       61\n",
       "19.000000       60\n",
       "18.000000       45\n",
       "17.000000       35\n",
       "53.000000       30\n",
       "54.000000       25\n",
       "59.000000       16\n",
       "63.000000        2\n",
       "60.000000        1\n",
       "Name: age, dtype: int64"
      ]
     },
     "execution_count": 22,
     "metadata": {},
     "output_type": "execute_result"
    }
   ],
   "source": [
    "train.age.value_counts()"
   ]
  },
  {
   "cell_type": "code",
   "execution_count": null,
   "metadata": {},
   "outputs": [],
   "source": []
  },
  {
   "cell_type": "code",
   "execution_count": null,
   "metadata": {},
   "outputs": [],
   "source": []
  },
  {
   "cell_type": "code",
   "execution_count": null,
   "metadata": {},
   "outputs": [],
   "source": []
  },
  {
   "cell_type": "code",
   "execution_count": null,
   "metadata": {},
   "outputs": [],
   "source": []
  },
  {
   "cell_type": "code",
   "execution_count": null,
   "metadata": {},
   "outputs": [],
   "source": []
  },
  {
   "cell_type": "code",
   "execution_count": null,
   "metadata": {},
   "outputs": [],
   "source": []
  },
  {
   "cell_type": "code",
   "execution_count": 23,
   "metadata": {},
   "outputs": [],
   "source": [
    "test = pd.read_csv('test_wF0Ps6O.csv')"
   ]
  },
  {
   "cell_type": "code",
   "execution_count": 24,
   "metadata": {},
   "outputs": [
    {
     "data": {
      "text/html": [
       "<div>\n",
       "<style scoped>\n",
       "    .dataframe tbody tr th:only-of-type {\n",
       "        vertical-align: middle;\n",
       "    }\n",
       "\n",
       "    .dataframe tbody tr th {\n",
       "        vertical-align: top;\n",
       "    }\n",
       "\n",
       "    .dataframe thead th {\n",
       "        text-align: right;\n",
       "    }\n",
       "</style>\n",
       "<table border=\"1\" class=\"dataframe\">\n",
       "  <thead>\n",
       "    <tr style=\"text-align: right;\">\n",
       "      <th></th>\n",
       "      <th>id</th>\n",
       "      <th>program_id</th>\n",
       "      <th>program_type</th>\n",
       "      <th>program_duration</th>\n",
       "      <th>test_id</th>\n",
       "      <th>test_type</th>\n",
       "      <th>difficulty_level</th>\n",
       "      <th>trainee_id</th>\n",
       "      <th>gender</th>\n",
       "      <th>education</th>\n",
       "      <th>city_tier</th>\n",
       "      <th>age</th>\n",
       "      <th>total_programs_enrolled</th>\n",
       "      <th>is_handicapped</th>\n",
       "      <th>trainee_engagement_rating</th>\n",
       "    </tr>\n",
       "  </thead>\n",
       "  <tbody>\n",
       "    <tr>\n",
       "      <th>0</th>\n",
       "      <td>1626_45</td>\n",
       "      <td>T_1</td>\n",
       "      <td>T</td>\n",
       "      <td>131</td>\n",
       "      <td>45</td>\n",
       "      <td>offline</td>\n",
       "      <td>intermediate</td>\n",
       "      <td>1626</td>\n",
       "      <td>F</td>\n",
       "      <td>Matriculation</td>\n",
       "      <td>3</td>\n",
       "      <td>46.0</td>\n",
       "      <td>2</td>\n",
       "      <td>N</td>\n",
       "      <td>4.0</td>\n",
       "    </tr>\n",
       "    <tr>\n",
       "      <th>1</th>\n",
       "      <td>11020_130</td>\n",
       "      <td>Y_3</td>\n",
       "      <td>Y</td>\n",
       "      <td>135</td>\n",
       "      <td>130</td>\n",
       "      <td>online</td>\n",
       "      <td>easy</td>\n",
       "      <td>11020</td>\n",
       "      <td>M</td>\n",
       "      <td>Bachelors</td>\n",
       "      <td>3</td>\n",
       "      <td>NaN</td>\n",
       "      <td>4</td>\n",
       "      <td>N</td>\n",
       "      <td>4.0</td>\n",
       "    </tr>\n",
       "    <tr>\n",
       "      <th>2</th>\n",
       "      <td>12652_146</td>\n",
       "      <td>Y_2</td>\n",
       "      <td>Y</td>\n",
       "      <td>120</td>\n",
       "      <td>146</td>\n",
       "      <td>online</td>\n",
       "      <td>easy</td>\n",
       "      <td>12652</td>\n",
       "      <td>M</td>\n",
       "      <td>Matriculation</td>\n",
       "      <td>3</td>\n",
       "      <td>NaN</td>\n",
       "      <td>2</td>\n",
       "      <td>N</td>\n",
       "      <td>3.0</td>\n",
       "    </tr>\n",
       "    <tr>\n",
       "      <th>3</th>\n",
       "      <td>7038_72</td>\n",
       "      <td>V_4</td>\n",
       "      <td>V</td>\n",
       "      <td>122</td>\n",
       "      <td>72</td>\n",
       "      <td>offline</td>\n",
       "      <td>vary hard</td>\n",
       "      <td>7038</td>\n",
       "      <td>F</td>\n",
       "      <td>High School Diploma</td>\n",
       "      <td>1</td>\n",
       "      <td>NaN</td>\n",
       "      <td>2</td>\n",
       "      <td>N</td>\n",
       "      <td>2.0</td>\n",
       "    </tr>\n",
       "    <tr>\n",
       "      <th>4</th>\n",
       "      <td>888_71</td>\n",
       "      <td>V_4</td>\n",
       "      <td>V</td>\n",
       "      <td>122</td>\n",
       "      <td>71</td>\n",
       "      <td>offline</td>\n",
       "      <td>intermediate</td>\n",
       "      <td>888</td>\n",
       "      <td>F</td>\n",
       "      <td>Matriculation</td>\n",
       "      <td>3</td>\n",
       "      <td>NaN</td>\n",
       "      <td>2</td>\n",
       "      <td>N</td>\n",
       "      <td>2.0</td>\n",
       "    </tr>\n",
       "  </tbody>\n",
       "</table>\n",
       "</div>"
      ],
      "text/plain": [
       "          id program_id program_type  program_duration  test_id test_type  \\\n",
       "0    1626_45        T_1            T               131       45   offline   \n",
       "1  11020_130        Y_3            Y               135      130    online   \n",
       "2  12652_146        Y_2            Y               120      146    online   \n",
       "3    7038_72        V_4            V               122       72   offline   \n",
       "4     888_71        V_4            V               122       71   offline   \n",
       "\n",
       "  difficulty_level  trainee_id gender            education  city_tier   age  \\\n",
       "0     intermediate        1626      F        Matriculation          3  46.0   \n",
       "1             easy       11020      M            Bachelors          3   NaN   \n",
       "2             easy       12652      M        Matriculation          3   NaN   \n",
       "3        vary hard        7038      F  High School Diploma          1   NaN   \n",
       "4     intermediate         888      F        Matriculation          3   NaN   \n",
       "\n",
       "   total_programs_enrolled is_handicapped  trainee_engagement_rating  \n",
       "0                        2              N                        4.0  \n",
       "1                        4              N                        4.0  \n",
       "2                        2              N                        3.0  \n",
       "3                        2              N                        2.0  \n",
       "4                        2              N                        2.0  "
      ]
     },
     "execution_count": 24,
     "metadata": {},
     "output_type": "execute_result"
    }
   ],
   "source": [
    "test.head()"
   ]
  },
  {
   "cell_type": "code",
   "execution_count": 25,
   "metadata": {},
   "outputs": [
    {
     "data": {
      "text/plain": [
       "(31349, 15)"
      ]
     },
     "execution_count": 25,
     "metadata": {},
     "output_type": "execute_result"
    }
   ],
   "source": [
    "test.shape"
   ]
  },
  {
   "cell_type": "code",
   "execution_count": 26,
   "metadata": {},
   "outputs": [
    {
     "data": {
      "text/plain": [
       "id                               0\n",
       "program_id                       0\n",
       "program_type                     0\n",
       "program_duration                 0\n",
       "test_id                          0\n",
       "test_type                        0\n",
       "difficulty_level                 0\n",
       "trainee_id                       0\n",
       "gender                           0\n",
       "education                        0\n",
       "city_tier                        0\n",
       "age                          11791\n",
       "total_programs_enrolled          0\n",
       "is_handicapped                   0\n",
       "trainee_engagement_rating       31\n",
       "dtype: int64"
      ]
     },
     "execution_count": 26,
     "metadata": {},
     "output_type": "execute_result"
    }
   ],
   "source": [
    "test.isna().sum()"
   ]
  },
  {
   "cell_type": "code",
   "execution_count": null,
   "metadata": {},
   "outputs": [],
   "source": []
  },
  {
   "cell_type": "code",
   "execution_count": 27,
   "metadata": {},
   "outputs": [],
   "source": [
    "test['trainee_engagement_rating'].fillna(value = 1,inplace = True)"
   ]
  },
  {
   "cell_type": "code",
   "execution_count": 28,
   "metadata": {},
   "outputs": [],
   "source": [
    "test.fillna(test.groupby('education').transform('mean'),inplace = True)"
   ]
  },
  {
   "cell_type": "code",
   "execution_count": 29,
   "metadata": {},
   "outputs": [
    {
     "name": "stdout",
     "output_type": "stream",
     "text": [
      "<class 'pandas.core.frame.DataFrame'>\n",
      "RangeIndex: 73147 entries, 0 to 73146\n",
      "Data columns (total 16 columns):\n",
      " #   Column                     Non-Null Count  Dtype  \n",
      "---  ------                     --------------  -----  \n",
      " 0   id                         73147 non-null  object \n",
      " 1   program_id                 73147 non-null  object \n",
      " 2   program_type               73147 non-null  object \n",
      " 3   program_duration           73147 non-null  int64  \n",
      " 4   test_id                    73147 non-null  int64  \n",
      " 5   test_type                  73147 non-null  object \n",
      " 6   difficulty_level           73147 non-null  object \n",
      " 7   trainee_id                 73147 non-null  int64  \n",
      " 8   gender                     73147 non-null  object \n",
      " 9   education                  73147 non-null  object \n",
      " 10  city_tier                  73147 non-null  int64  \n",
      " 11  age                        73147 non-null  float64\n",
      " 12  total_programs_enrolled    73147 non-null  int64  \n",
      " 13  is_handicapped             73147 non-null  object \n",
      " 14  trainee_engagement_rating  73147 non-null  float64\n",
      " 15  is_pass                    73147 non-null  int64  \n",
      "dtypes: float64(2), int64(6), object(8)\n",
      "memory usage: 8.9+ MB\n"
     ]
    }
   ],
   "source": [
    "train.info()"
   ]
  },
  {
   "cell_type": "code",
   "execution_count": 30,
   "metadata": {},
   "outputs": [
    {
     "name": "stdout",
     "output_type": "stream",
     "text": [
      "<class 'pandas.core.frame.DataFrame'>\n",
      "RangeIndex: 31349 entries, 0 to 31348\n",
      "Data columns (total 15 columns):\n",
      " #   Column                     Non-Null Count  Dtype  \n",
      "---  ------                     --------------  -----  \n",
      " 0   id                         31349 non-null  object \n",
      " 1   program_id                 31349 non-null  object \n",
      " 2   program_type               31349 non-null  object \n",
      " 3   program_duration           31349 non-null  int64  \n",
      " 4   test_id                    31349 non-null  int64  \n",
      " 5   test_type                  31349 non-null  object \n",
      " 6   difficulty_level           31349 non-null  object \n",
      " 7   trainee_id                 31349 non-null  int64  \n",
      " 8   gender                     31349 non-null  object \n",
      " 9   education                  31349 non-null  object \n",
      " 10  city_tier                  31349 non-null  int64  \n",
      " 11  age                        31349 non-null  float64\n",
      " 12  total_programs_enrolled    31349 non-null  int64  \n",
      " 13  is_handicapped             31349 non-null  object \n",
      " 14  trainee_engagement_rating  31349 non-null  float64\n",
      "dtypes: float64(2), int64(5), object(8)\n",
      "memory usage: 3.6+ MB\n"
     ]
    }
   ],
   "source": [
    "test.info()"
   ]
  },
  {
   "cell_type": "code",
   "execution_count": 31,
   "metadata": {},
   "outputs": [
    {
     "data": {
      "text/html": [
       "<div>\n",
       "<style scoped>\n",
       "    .dataframe tbody tr th:only-of-type {\n",
       "        vertical-align: middle;\n",
       "    }\n",
       "\n",
       "    .dataframe tbody tr th {\n",
       "        vertical-align: top;\n",
       "    }\n",
       "\n",
       "    .dataframe thead th {\n",
       "        text-align: right;\n",
       "    }\n",
       "</style>\n",
       "<table border=\"1\" class=\"dataframe\">\n",
       "  <thead>\n",
       "    <tr style=\"text-align: right;\">\n",
       "      <th></th>\n",
       "      <th>id</th>\n",
       "      <th>program_id</th>\n",
       "      <th>program_type</th>\n",
       "      <th>program_duration</th>\n",
       "      <th>test_id</th>\n",
       "      <th>test_type</th>\n",
       "      <th>difficulty_level</th>\n",
       "      <th>trainee_id</th>\n",
       "      <th>gender</th>\n",
       "      <th>education</th>\n",
       "      <th>city_tier</th>\n",
       "      <th>age</th>\n",
       "      <th>total_programs_enrolled</th>\n",
       "      <th>is_handicapped</th>\n",
       "      <th>trainee_engagement_rating</th>\n",
       "      <th>is_pass</th>\n",
       "    </tr>\n",
       "  </thead>\n",
       "  <tbody>\n",
       "    <tr>\n",
       "      <th>0</th>\n",
       "      <td>9389_150</td>\n",
       "      <td>Y_1</td>\n",
       "      <td>Y</td>\n",
       "      <td>136</td>\n",
       "      <td>150</td>\n",
       "      <td>offline</td>\n",
       "      <td>intermediate</td>\n",
       "      <td>9389</td>\n",
       "      <td>M</td>\n",
       "      <td>Matriculation</td>\n",
       "      <td>3</td>\n",
       "      <td>24.000000</td>\n",
       "      <td>5</td>\n",
       "      <td>N</td>\n",
       "      <td>1.0</td>\n",
       "      <td>0</td>\n",
       "    </tr>\n",
       "    <tr>\n",
       "      <th>1</th>\n",
       "      <td>16523_44</td>\n",
       "      <td>T_1</td>\n",
       "      <td>T</td>\n",
       "      <td>131</td>\n",
       "      <td>44</td>\n",
       "      <td>offline</td>\n",
       "      <td>easy</td>\n",
       "      <td>16523</td>\n",
       "      <td>F</td>\n",
       "      <td>High School Diploma</td>\n",
       "      <td>4</td>\n",
       "      <td>26.000000</td>\n",
       "      <td>2</td>\n",
       "      <td>N</td>\n",
       "      <td>3.0</td>\n",
       "      <td>1</td>\n",
       "    </tr>\n",
       "    <tr>\n",
       "      <th>2</th>\n",
       "      <td>13987_178</td>\n",
       "      <td>Z_2</td>\n",
       "      <td>Z</td>\n",
       "      <td>120</td>\n",
       "      <td>178</td>\n",
       "      <td>online</td>\n",
       "      <td>easy</td>\n",
       "      <td>13987</td>\n",
       "      <td>M</td>\n",
       "      <td>Matriculation</td>\n",
       "      <td>1</td>\n",
       "      <td>40.000000</td>\n",
       "      <td>1</td>\n",
       "      <td>N</td>\n",
       "      <td>2.0</td>\n",
       "      <td>1</td>\n",
       "    </tr>\n",
       "    <tr>\n",
       "      <th>3</th>\n",
       "      <td>13158_32</td>\n",
       "      <td>T_2</td>\n",
       "      <td>T</td>\n",
       "      <td>117</td>\n",
       "      <td>32</td>\n",
       "      <td>offline</td>\n",
       "      <td>easy</td>\n",
       "      <td>13158</td>\n",
       "      <td>F</td>\n",
       "      <td>Matriculation</td>\n",
       "      <td>3</td>\n",
       "      <td>36.480293</td>\n",
       "      <td>4</td>\n",
       "      <td>N</td>\n",
       "      <td>1.0</td>\n",
       "      <td>1</td>\n",
       "    </tr>\n",
       "    <tr>\n",
       "      <th>4</th>\n",
       "      <td>10591_84</td>\n",
       "      <td>V_3</td>\n",
       "      <td>V</td>\n",
       "      <td>131</td>\n",
       "      <td>84</td>\n",
       "      <td>offline</td>\n",
       "      <td>intermediate</td>\n",
       "      <td>10591</td>\n",
       "      <td>F</td>\n",
       "      <td>High School Diploma</td>\n",
       "      <td>1</td>\n",
       "      <td>42.000000</td>\n",
       "      <td>2</td>\n",
       "      <td>N</td>\n",
       "      <td>4.0</td>\n",
       "      <td>1</td>\n",
       "    </tr>\n",
       "  </tbody>\n",
       "</table>\n",
       "</div>"
      ],
      "text/plain": [
       "          id program_id program_type  program_duration  test_id test_type  \\\n",
       "0   9389_150        Y_1            Y               136      150   offline   \n",
       "1   16523_44        T_1            T               131       44   offline   \n",
       "2  13987_178        Z_2            Z               120      178    online   \n",
       "3   13158_32        T_2            T               117       32   offline   \n",
       "4   10591_84        V_3            V               131       84   offline   \n",
       "\n",
       "  difficulty_level  trainee_id gender            education  city_tier  \\\n",
       "0     intermediate        9389      M        Matriculation          3   \n",
       "1             easy       16523      F  High School Diploma          4   \n",
       "2             easy       13987      M        Matriculation          1   \n",
       "3             easy       13158      F        Matriculation          3   \n",
       "4     intermediate       10591      F  High School Diploma          1   \n",
       "\n",
       "         age  total_programs_enrolled is_handicapped  \\\n",
       "0  24.000000                        5              N   \n",
       "1  26.000000                        2              N   \n",
       "2  40.000000                        1              N   \n",
       "3  36.480293                        4              N   \n",
       "4  42.000000                        2              N   \n",
       "\n",
       "   trainee_engagement_rating  is_pass  \n",
       "0                        1.0        0  \n",
       "1                        3.0        1  \n",
       "2                        2.0        1  \n",
       "3                        1.0        1  \n",
       "4                        4.0        1  "
      ]
     },
     "execution_count": 31,
     "metadata": {},
     "output_type": "execute_result"
    }
   ],
   "source": [
    "train.head()"
   ]
  },
  {
   "cell_type": "code",
   "execution_count": 32,
   "metadata": {},
   "outputs": [
    {
     "data": {
      "text/plain": [
       "array(['Y_1', 'T_1', 'Z_2', 'T_2', 'V_3', 'T_3', 'Y_2', 'U_1', 'Y_3',\n",
       "       'X_3', 'Y_4', 'V_1', 'T_4', 'Z_1', 'S_2', 'X_2', 'V_4', 'Z_3',\n",
       "       'U_2', 'X_1', 'S_1', 'V_2'], dtype=object)"
      ]
     },
     "execution_count": 32,
     "metadata": {},
     "output_type": "execute_result"
    }
   ],
   "source": [
    "train['program_id'].unique()"
   ]
  },
  {
   "cell_type": "code",
   "execution_count": 33,
   "metadata": {},
   "outputs": [
    {
     "data": {
      "text/plain": [
       "array(['Y', 'T', 'Z', 'V', 'U', 'X', 'S'], dtype=object)"
      ]
     },
     "execution_count": 33,
     "metadata": {},
     "output_type": "execute_result"
    }
   ],
   "source": [
    "train['program_type'].unique()"
   ]
  },
  {
   "cell_type": "code",
   "execution_count": 34,
   "metadata": {},
   "outputs": [
    {
     "data": {
      "text/plain": [
       "array(['offline', 'online'], dtype=object)"
      ]
     },
     "execution_count": 34,
     "metadata": {},
     "output_type": "execute_result"
    }
   ],
   "source": [
    "train['test_type'].unique()"
   ]
  },
  {
   "cell_type": "code",
   "execution_count": 35,
   "metadata": {},
   "outputs": [
    {
     "data": {
      "text/plain": [
       "array(['intermediate', 'easy', 'hard', 'vary hard'], dtype=object)"
      ]
     },
     "execution_count": 35,
     "metadata": {},
     "output_type": "execute_result"
    }
   ],
   "source": [
    "train['difficulty_level'].unique()"
   ]
  },
  {
   "cell_type": "code",
   "execution_count": 36,
   "metadata": {},
   "outputs": [
    {
     "data": {
      "text/plain": [
       "array(['M', 'F'], dtype=object)"
      ]
     },
     "execution_count": 36,
     "metadata": {},
     "output_type": "execute_result"
    }
   ],
   "source": [
    "train['gender'].unique()"
   ]
  },
  {
   "cell_type": "code",
   "execution_count": 37,
   "metadata": {},
   "outputs": [
    {
     "data": {
      "text/plain": [
       "array(['Matriculation', 'High School Diploma', 'Bachelors', 'Masters',\n",
       "       'No Qualification'], dtype=object)"
      ]
     },
     "execution_count": 37,
     "metadata": {},
     "output_type": "execute_result"
    }
   ],
   "source": [
    "train['education'].unique()"
   ]
  },
  {
   "cell_type": "code",
   "execution_count": 38,
   "metadata": {},
   "outputs": [
    {
     "data": {
      "text/plain": [
       "array(['N', 'Y'], dtype=object)"
      ]
     },
     "execution_count": 38,
     "metadata": {},
     "output_type": "execute_result"
    }
   ],
   "source": [
    "train['is_handicapped'].unique()"
   ]
  },
  {
   "cell_type": "code",
   "execution_count": 39,
   "metadata": {},
   "outputs": [
    {
     "data": {
      "text/plain": [
       "73147"
      ]
     },
     "execution_count": 39,
     "metadata": {},
     "output_type": "execute_result"
    }
   ],
   "source": [
    "train['id'].nunique()"
   ]
  },
  {
   "cell_type": "code",
   "execution_count": 40,
   "metadata": {},
   "outputs": [
    {
     "data": {
      "text/plain": [
       "<matplotlib.axes._subplots.AxesSubplot at 0x7f5be426c490>"
      ]
     },
     "execution_count": 40,
     "metadata": {},
     "output_type": "execute_result"
    },
    {
     "data": {
      "image/png": "[encoded data removed]",
      "text/plain": [
       "<Figure size 432x288 with 1 Axes>"
      ]
     },
     "metadata": {
      "needs_background": "light"
     },
     "output_type": "display_data"
    }
   ],
   "source": [
    "sns.scatterplot(data= train,y = 'program_type',x = 'program_id',hue='is_pass')"
   ]
  },
  {
   "cell_type": "code",
   "execution_count": 41,
   "metadata": {},
   "outputs": [
    {
     "data": {
      "text/plain": [
       "<matplotlib.axes._subplots.AxesSubplot at 0x7f5be41de750>"
      ]
     },
     "execution_count": 41,
     "metadata": {},
     "output_type": "execute_result"
    },
    {
     "data": {
      "image/png": "[encoded data removed]",
      "text/plain": [
       "<Figure size 432x288 with 1 Axes>"
      ]
     },
     "metadata": {
      "needs_background": "light"
     },
     "output_type": "display_data"
    }
   ],
   "source": [
    "sns.countplot(data= train,x = 'program_id',hue='is_pass')"
   ]
  },
  {
   "cell_type": "code",
   "execution_count": 42,
   "metadata": {},
   "outputs": [
    {
     "data": {
      "text/plain": [
       "<matplotlib.axes._subplots.AxesSubplot at 0x7f5bdc7cf8d0>"
      ]
     },
     "execution_count": 42,
     "metadata": {},
     "output_type": "execute_result"
    },
    {
     "data": {
      "image/png": "[encoded data removed]",
      "text/plain": [
       "<Figure size 432x288 with 1 Axes>"
      ]
     },
     "metadata": {
      "needs_background": "light"
     },
     "output_type": "display_data"
    }
   ],
   "source": [
    "sns.countplot(data= train,x = 'program_type',hue='is_pass')"
   ]
  },
  {
   "cell_type": "code",
   "execution_count": null,
   "metadata": {},
   "outputs": [],
   "source": []
  },
  {
   "cell_type": "code",
   "execution_count": 43,
   "metadata": {},
   "outputs": [
    {
     "data": {
      "text/plain": [
       "<matplotlib.axes._subplots.AxesSubplot at 0x7f5bdc301710>"
      ]
     },
     "execution_count": 43,
     "metadata": {},
     "output_type": "execute_result"
    },
    {
     "data": {
      "image/png": "[encoded data removed]",
      "text/plain": [
       "<Figure size 1584x1440 with 2 Axes>"
      ]
     },
     "metadata": {
      "needs_background": "light"
     },
     "output_type": "display_data"
    }
   ],
   "source": [
    "plt.figure(figsize = (22,20))\n",
    "sns.heatmap(data = train.corr(),annot = True, cmap = 'coolwarm',linewidths=.5)"
   ]
  },
  {
   "cell_type": "markdown",
   "metadata": {},
   "source": [
    "#### Performing Chi-Square for indeoendence test for two categorical variables to find wheather there is relationship between variables Program_type and Progran_id"
   ]
  },
  {
   "cell_type": "code",
   "execution_count": 44,
   "metadata": {},
   "outputs": [
    {
     "name": "stdout",
     "output_type": "stream",
     "text": [
      "contingency_table :-\n",
      " program_type    S     T     U     V     X     Y     Z\n",
      "program_id                                           \n",
      "S_1           644     0     0     0     0     0     0\n",
      "S_2           682     0     0     0     0     0     0\n",
      "T_1             0  3152     0     0     0     0     0\n",
      "T_2             0  4266     0     0     0     0     0\n",
      "T_3             0  6248     0     0     0     0     0\n",
      "T_4             0  4792     0     0     0     0     0\n",
      "U_1             0     0  4748     0     0     0     0\n",
      "U_2             0     0  3073     0     0     0     0\n",
      "V_1             0     0     0  3409     0     0     0\n",
      "V_2             0     0     0  1896     0     0     0\n",
      "V_3             0     0     0  3419     0     0     0\n",
      "V_4             0     0     0  4301     0     0     0\n",
      "X_1             0     0     0     0  1349     0     0\n",
      "X_2             0     0     0     0   774     0     0\n",
      "X_3             0     0     0     0  1205     0     0\n",
      "Y_1             0     0     0     0     0  6687     0\n",
      "Y_2             0     0     0     0     0  4241     0\n",
      "Y_3             0     0     0     0     0  6623     0\n",
      "Y_4             0     0     0     0     0  5009     0\n",
      "Z_1             0     0     0     0     0     0  1873\n",
      "Z_2             0     0     0     0     0     0  2097\n",
      "Z_3             0     0     0     0     0     0  2659\n"
     ]
    }
   ],
   "source": [
    "#Contingency Table\n",
    "contingency_table=pd.crosstab(train[\"program_id\"],train[\"program_type\"])\n",
    "print('contingency_table :-\\n',contingency_table)"
   ]
  },
  {
   "cell_type": "code",
   "execution_count": 45,
   "metadata": {},
   "outputs": [
    {
     "name": "stdout",
     "output_type": "stream",
     "text": [
      "Observed Values :-\n",
      " [[ 644    0    0    0    0    0    0]\n",
      " [ 682    0    0    0    0    0    0]\n",
      " [   0 3152    0    0    0    0    0]\n",
      " [   0 4266    0    0    0    0    0]\n",
      " [   0 6248    0    0    0    0    0]\n",
      " [   0 4792    0    0    0    0    0]\n",
      " [   0    0 4748    0    0    0    0]\n",
      " [   0    0 3073    0    0    0    0]\n",
      " [   0    0    0 3409    0    0    0]\n",
      " [   0    0    0 1896    0    0    0]\n",
      " [   0    0    0 3419    0    0    0]\n",
      " [   0    0    0 4301    0    0    0]\n",
      " [   0    0    0    0 1349    0    0]\n",
      " [   0    0    0    0  774    0    0]\n",
      " [   0    0    0    0 1205    0    0]\n",
      " [   0    0    0    0    0 6687    0]\n",
      " [   0    0    0    0    0 4241    0]\n",
      " [   0    0    0    0    0 6623    0]\n",
      " [   0    0    0    0    0 5009    0]\n",
      " [   0    0    0    0    0    0 1873]\n",
      " [   0    0    0    0    0    0 2097]\n",
      " [   0    0    0    0    0    0 2659]]\n"
     ]
    }
   ],
   "source": [
    "#Observed Values\n",
    "Observed_Values = contingency_table.values \n",
    "print(\"Observed Values :-\\n\",Observed_Values)"
   ]
  },
  {
   "cell_type": "code",
   "execution_count": 46,
   "metadata": {},
   "outputs": [
    {
     "name": "stdout",
     "output_type": "stream",
     "text": [
      "Expected Values :-\n",
      " [[  11.67435438  162.50771734   68.8575608   114.67455945   29.30034041\n",
      "   198.6224999    58.36296772]\n",
      " [  12.3632138   172.09668202   72.92058458  121.44107072   31.02924248\n",
      "   210.34246107   61.80674532]\n",
      " [  57.13907611  795.37938671  337.01712989  561.26430339  143.40787729\n",
      "   972.13993739  285.65228923]\n",
      " [  77.33353384 1076.48745677  456.12787948  759.62992331  194.09200651\n",
      "  1315.71985181  386.6093483 ]\n",
      " [ 113.26299096 1576.62766757  668.0466458  1112.55690596  284.26789889\n",
      "  1927.00835304  566.22953778]\n",
      " [  86.86879845 1209.21891533  512.36868224  853.29268459  218.023651\n",
      "  1477.94878806  434.27848032]\n",
      " [  86.07117175 1198.11590359  507.6641284   845.45777681  216.02176439\n",
      "  1464.3783067   430.29094836]\n",
      " [  55.70697363  775.44443381  328.57031731  547.19708259  139.81358087\n",
      "   947.77475495  278.49285685]\n",
      " [  61.79794113  860.23106894  364.4960012   607.02728752  155.100715\n",
      "  1051.40388533  308.94310088]\n",
      " [  34.37045949  478.43886967  202.72350199  337.61329925   86.263114\n",
      "   584.76437858  171.82637702]\n",
      " [  61.97921993  862.7544807   365.56521799  608.80794838  155.55568923\n",
      "  1054.48808564  309.84935814]\n",
      " [  77.96800962 1085.31939792  459.87013821  765.86223632  195.68441631\n",
      "  1326.51455289  389.78124872]\n",
      " [  24.45450941  340.40824641  144.23734398  240.21115015   61.37602362\n",
      "   416.05862168  122.25410475]\n",
      " [  14.03097871  195.31207021   82.75737898  137.82315064   35.2150054\n",
      "   238.71710391   70.14431214]\n",
      " [  21.84409477  304.07111707  128.84062231  214.56963375   54.82439471\n",
      "   371.64613723  109.20400016]\n",
      " [ 121.22113005 1687.40544383  714.98526255 1190.72791775  304.24126758\n",
      "  2062.40474661  606.01423162]\n",
      " [  76.88033686 1070.17892737  453.45483752  755.17827115  192.95457093\n",
      "  1308.00935103  384.34370514]\n",
      " [ 120.06094577 1671.25560857  708.14227514 1179.33168824  301.32943251\n",
      "  2042.66586463  600.21418513]\n",
      " [  90.80254829 1263.97695052  535.57068643  891.93302528  227.89659179\n",
      "  1544.87593476  453.94426292]\n",
      " [  33.95351826  472.63502263  200.26430339  333.51777927   85.21667327\n",
      "   577.67071787  169.74198532]\n",
      " [  38.01416326  529.15944605  224.21475932  373.40458255   95.40809603\n",
      "   646.75680479  190.042148  ]\n",
      " [  48.20203153  670.97518695  284.3047425   473.47772294  120.97764775\n",
      "   820.08886215  240.97380617]]\n"
     ]
    }
   ],
   "source": [
    "#Expected Values\n",
    "import scipy.stats\n",
    "b=scipy.stats.chi2_contingency(contingency_table)\n",
    "Expected_Values = b[3]\n",
    "print(\"Expected Values :-\\n\",Expected_Values)"
   ]
  },
  {
   "cell_type": "code",
   "execution_count": 47,
   "metadata": {},
   "outputs": [
    {
     "name": "stdout",
     "output_type": "stream",
     "text": [
      "Degree of Freedom:- 1\n"
     ]
    }
   ],
   "source": [
    "#Degree of Freedom\n",
    "no_of_rows=len(contingency_table.iloc[0:2,0])\n",
    "no_of_columns=len(contingency_table.iloc[0,0:2])\n",
    "df=(no_of_rows-1)*(no_of_columns-1)\n",
    "print(\"Degree of Freedom:-\",df)\n",
    "\n",
    "#or\n",
    "#df=b[2]\n",
    "#print(\"Degree of Freedom:-\",df)"
   ]
  },
  {
   "cell_type": "code",
   "execution_count": 48,
   "metadata": {},
   "outputs": [],
   "source": [
    "#Significance Level 5%\n",
    "alpha=0.05"
   ]
  },
  {
   "cell_type": "code",
   "execution_count": 49,
   "metadata": {},
   "outputs": [
    {
     "name": "stdout",
     "output_type": "stream",
     "text": [
      "chi-square statistic:- 126510.0\n"
     ]
    }
   ],
   "source": [
    "#chi-square statistic - χ2\n",
    "from scipy.stats import chi2\n",
    "chi_square=sum([(o-e)**2./e for o,e in zip(Observed_Values,Expected_Values)])\n",
    "chi_square_statistic=chi_square[0]+chi_square[1]\n",
    "print(\"chi-square statistic:-\",chi_square_statistic)"
   ]
  },
  {
   "cell_type": "code",
   "execution_count": 50,
   "metadata": {},
   "outputs": [
    {
     "name": "stdout",
     "output_type": "stream",
     "text": [
      "critical_value: 3.841458820694124\n"
     ]
    }
   ],
   "source": [
    "#critical_value\n",
    "critical_value=chi2.ppf(q=1-alpha,df=df)\n",
    "print('critical_value:',critical_value)"
   ]
  },
  {
   "cell_type": "code",
   "execution_count": 51,
   "metadata": {},
   "outputs": [
    {
     "name": "stdout",
     "output_type": "stream",
     "text": [
      "p-value: 0.0\n"
     ]
    }
   ],
   "source": [
    "#p-value\n",
    "p_value=1-chi2.cdf(x=chi_square_statistic,df=df)\n",
    "print('p-value:',p_value)"
   ]
  },
  {
   "cell_type": "code",
   "execution_count": 52,
   "metadata": {},
   "outputs": [
    {
     "name": "stdout",
     "output_type": "stream",
     "text": [
      "Significance level:  0.05\n",
      "Degree of Freedom:  1\n",
      "chi-square statistic: 126510.0\n",
      "critical_value: 3.841458820694124\n",
      "p-value: 0.0\n"
     ]
    }
   ],
   "source": [
    "print('Significance level: ',alpha)\n",
    "print('Degree of Freedom: ',df)\n",
    "print('chi-square statistic:',chi_square_statistic)\n",
    "print('critical_value:',critical_value)\n",
    "print('p-value:',p_value)"
   ]
  },
  {
   "cell_type": "code",
   "execution_count": 53,
   "metadata": {},
   "outputs": [
    {
     "name": "stdout",
     "output_type": "stream",
     "text": [
      "Reject H0,There is a relationship between 2 categorical variables\n",
      "Reject H0,There is a relationship between 2 categorical variables\n"
     ]
    }
   ],
   "source": [
    "#compare chi_square_statistic with critical_value and p-value which is the probability of getting chi-square>0.09 (chi_square_statistic)\n",
    "if chi_square_statistic>=critical_value:\n",
    "    print(\"Reject H0,There is a relationship between 2 categorical variables\")\n",
    "else:\n",
    "    print(\"Retain H0,There is no relationship between 2 categorical variables\")\n",
    "    \n",
    "if p_value<=alpha:\n",
    "    print(\"Reject H0,There is a relationship between 2 categorical variables\")\n",
    "else:\n",
    "    print(\"Retain H0,There is no relationship between 2 categorical variables\")"
   ]
  },
  {
   "cell_type": "code",
   "execution_count": 54,
   "metadata": {},
   "outputs": [],
   "source": [
    "# As there is arelationship between two variables we are dropping Program_id\n"
   ]
  },
  {
   "cell_type": "code",
   "execution_count": 55,
   "metadata": {},
   "outputs": [
    {
     "name": "stdout",
     "output_type": "stream",
     "text": [
      "(73147, 16)\n",
      "(31349, 15)\n"
     ]
    }
   ],
   "source": [
    "print(train.shape)\n",
    "print(test.shape)"
   ]
  },
  {
   "cell_type": "code",
   "execution_count": 56,
   "metadata": {},
   "outputs": [
    {
     "data": {
      "text/plain": [
       "104496"
      ]
     },
     "execution_count": 56,
     "metadata": {},
     "output_type": "execute_result"
    }
   ],
   "source": [
    "73147+31349"
   ]
  },
  {
   "cell_type": "code",
   "execution_count": 57,
   "metadata": {},
   "outputs": [],
   "source": [
    "df = pd.concat([train,test])"
   ]
  },
  {
   "cell_type": "code",
   "execution_count": 58,
   "metadata": {},
   "outputs": [
    {
     "data": {
      "text/plain": [
       "(104496, 16)"
      ]
     },
     "execution_count": 58,
     "metadata": {},
     "output_type": "execute_result"
    }
   ],
   "source": [
    "df.shape"
   ]
  },
  {
   "cell_type": "code",
   "execution_count": 59,
   "metadata": {},
   "outputs": [
    {
     "data": {
      "text/plain": [
       "Index(['id', 'program_id', 'program_type', 'program_duration', 'test_id',\n",
       "       'test_type', 'difficulty_level', 'trainee_id', 'gender', 'education',\n",
       "       'city_tier', 'age', 'total_programs_enrolled', 'is_handicapped',\n",
       "       'trainee_engagement_rating', 'is_pass'],\n",
       "      dtype='object')"
      ]
     },
     "execution_count": 59,
     "metadata": {},
     "output_type": "execute_result"
    }
   ],
   "source": [
    "df.columns"
   ]
  },
  {
   "cell_type": "code",
   "execution_count": 60,
   "metadata": {},
   "outputs": [],
   "source": [
    "df['test_type'] = df['test_type'].map({'offline' : 0, 'online': 1})\n",
    "df['difficulty_level'] = df['difficulty_level'].map({'intermediate': 1, 'easy' : 0, 'hard': 2, 'vary hard':3})\n",
    "df['gender'] = df['gender'].map({'F' : 0, 'M': 1})\n",
    "df['education'] = df['education'].map({'Matriculation':1, 'High School Diploma':2, 'Bachelors':3, 'Masters':4,\n",
    "       'No Qualification':0})\n",
    "\n",
    "df['is_handicapped'] = df['is_handicapped'].map({'Y' : 0, 'N': 1})\n",
    "\n"
   ]
  },
  {
   "cell_type": "code",
   "execution_count": 61,
   "metadata": {},
   "outputs": [
    {
     "data": {
      "text/plain": [
       "['Y', 'T', 'V', 'U', 'Z', 'X', 'S']"
      ]
     },
     "execution_count": 61,
     "metadata": {},
     "output_type": "execute_result"
    }
   ],
   "source": [
    "# To know value counts in particular feature and sort it with top 10\n",
    "top_10 = [x for x in df.program_type.value_counts().sort_values(ascending=False).head(10).index]\n",
    "top_10"
   ]
  },
  {
   "cell_type": "code",
   "execution_count": 62,
   "metadata": {},
   "outputs": [
    {
     "data": {
      "text/html": [
       "<div>\n",
       "<style scoped>\n",
       "    .dataframe tbody tr th:only-of-type {\n",
       "        vertical-align: middle;\n",
       "    }\n",
       "\n",
       "    .dataframe tbody tr th {\n",
       "        vertical-align: top;\n",
       "    }\n",
       "\n",
       "    .dataframe thead th {\n",
       "        text-align: right;\n",
       "    }\n",
       "</style>\n",
       "<table border=\"1\" class=\"dataframe\">\n",
       "  <thead>\n",
       "    <tr style=\"text-align: right;\">\n",
       "      <th></th>\n",
       "      <th>id</th>\n",
       "      <th>program_id</th>\n",
       "      <th>program_type</th>\n",
       "      <th>program_duration</th>\n",
       "      <th>test_id</th>\n",
       "      <th>test_type</th>\n",
       "      <th>difficulty_level</th>\n",
       "      <th>trainee_id</th>\n",
       "      <th>gender</th>\n",
       "      <th>education</th>\n",
       "      <th>...</th>\n",
       "      <th>is_handicapped</th>\n",
       "      <th>trainee_engagement_rating</th>\n",
       "      <th>is_pass</th>\n",
       "      <th>program_type_Y</th>\n",
       "      <th>program_type_T</th>\n",
       "      <th>program_type_V</th>\n",
       "      <th>program_type_U</th>\n",
       "      <th>program_type_Z</th>\n",
       "      <th>program_type_X</th>\n",
       "      <th>program_type_S</th>\n",
       "    </tr>\n",
       "  </thead>\n",
       "  <tbody>\n",
       "    <tr>\n",
       "      <th>0</th>\n",
       "      <td>9389_150</td>\n",
       "      <td>Y_1</td>\n",
       "      <td>Y</td>\n",
       "      <td>136</td>\n",
       "      <td>150</td>\n",
       "      <td>0</td>\n",
       "      <td>1</td>\n",
       "      <td>9389</td>\n",
       "      <td>1</td>\n",
       "      <td>1</td>\n",
       "      <td>...</td>\n",
       "      <td>1</td>\n",
       "      <td>1.0</td>\n",
       "      <td>0.0</td>\n",
       "      <td>1</td>\n",
       "      <td>0</td>\n",
       "      <td>0</td>\n",
       "      <td>0</td>\n",
       "      <td>0</td>\n",
       "      <td>0</td>\n",
       "      <td>0</td>\n",
       "    </tr>\n",
       "    <tr>\n",
       "      <th>1</th>\n",
       "      <td>16523_44</td>\n",
       "      <td>T_1</td>\n",
       "      <td>T</td>\n",
       "      <td>131</td>\n",
       "      <td>44</td>\n",
       "      <td>0</td>\n",
       "      <td>0</td>\n",
       "      <td>16523</td>\n",
       "      <td>0</td>\n",
       "      <td>2</td>\n",
       "      <td>...</td>\n",
       "      <td>1</td>\n",
       "      <td>3.0</td>\n",
       "      <td>1.0</td>\n",
       "      <td>0</td>\n",
       "      <td>1</td>\n",
       "      <td>0</td>\n",
       "      <td>0</td>\n",
       "      <td>0</td>\n",
       "      <td>0</td>\n",
       "      <td>0</td>\n",
       "    </tr>\n",
       "    <tr>\n",
       "      <th>2</th>\n",
       "      <td>13987_178</td>\n",
       "      <td>Z_2</td>\n",
       "      <td>Z</td>\n",
       "      <td>120</td>\n",
       "      <td>178</td>\n",
       "      <td>1</td>\n",
       "      <td>0</td>\n",
       "      <td>13987</td>\n",
       "      <td>1</td>\n",
       "      <td>1</td>\n",
       "      <td>...</td>\n",
       "      <td>1</td>\n",
       "      <td>2.0</td>\n",
       "      <td>1.0</td>\n",
       "      <td>0</td>\n",
       "      <td>0</td>\n",
       "      <td>0</td>\n",
       "      <td>0</td>\n",
       "      <td>1</td>\n",
       "      <td>0</td>\n",
       "      <td>0</td>\n",
       "    </tr>\n",
       "    <tr>\n",
       "      <th>3</th>\n",
       "      <td>13158_32</td>\n",
       "      <td>T_2</td>\n",
       "      <td>T</td>\n",
       "      <td>117</td>\n",
       "      <td>32</td>\n",
       "      <td>0</td>\n",
       "      <td>0</td>\n",
       "      <td>13158</td>\n",
       "      <td>0</td>\n",
       "      <td>1</td>\n",
       "      <td>...</td>\n",
       "      <td>1</td>\n",
       "      <td>1.0</td>\n",
       "      <td>1.0</td>\n",
       "      <td>0</td>\n",
       "      <td>1</td>\n",
       "      <td>0</td>\n",
       "      <td>0</td>\n",
       "      <td>0</td>\n",
       "      <td>0</td>\n",
       "      <td>0</td>\n",
       "    </tr>\n",
       "    <tr>\n",
       "      <th>4</th>\n",
       "      <td>10591_84</td>\n",
       "      <td>V_3</td>\n",
       "      <td>V</td>\n",
       "      <td>131</td>\n",
       "      <td>84</td>\n",
       "      <td>0</td>\n",
       "      <td>1</td>\n",
       "      <td>10591</td>\n",
       "      <td>0</td>\n",
       "      <td>2</td>\n",
       "      <td>...</td>\n",
       "      <td>1</td>\n",
       "      <td>4.0</td>\n",
       "      <td>1.0</td>\n",
       "      <td>0</td>\n",
       "      <td>0</td>\n",
       "      <td>1</td>\n",
       "      <td>0</td>\n",
       "      <td>0</td>\n",
       "      <td>0</td>\n",
       "      <td>0</td>\n",
       "    </tr>\n",
       "  </tbody>\n",
       "</table>\n",
       "<p>5 rows × 23 columns</p>\n",
       "</div>"
      ],
      "text/plain": [
       "          id program_id program_type  program_duration  test_id  test_type  \\\n",
       "0   9389_150        Y_1            Y               136      150          0   \n",
       "1   16523_44        T_1            T               131       44          0   \n",
       "2  13987_178        Z_2            Z               120      178          1   \n",
       "3   13158_32        T_2            T               117       32          0   \n",
       "4   10591_84        V_3            V               131       84          0   \n",
       "\n",
       "   difficulty_level  trainee_id  gender  education  ...  is_handicapped  \\\n",
       "0                 1        9389       1          1  ...               1   \n",
       "1                 0       16523       0          2  ...               1   \n",
       "2                 0       13987       1          1  ...               1   \n",
       "3                 0       13158       0          1  ...               1   \n",
       "4                 1       10591       0          2  ...               1   \n",
       "\n",
       "   trainee_engagement_rating  is_pass  program_type_Y  program_type_T  \\\n",
       "0                        1.0      0.0               1               0   \n",
       "1                        3.0      1.0               0               1   \n",
       "2                        2.0      1.0               0               0   \n",
       "3                        1.0      1.0               0               1   \n",
       "4                        4.0      1.0               0               0   \n",
       "\n",
       "   program_type_V  program_type_U  program_type_Z  program_type_X  \\\n",
       "0               0               0               0               0   \n",
       "1               0               0               0               0   \n",
       "2               0               0               1               0   \n",
       "3               0               0               0               0   \n",
       "4               1               0               0               0   \n",
       "\n",
       "   program_type_S  \n",
       "0               0  \n",
       "1               0  \n",
       "2               0  \n",
       "3               0  \n",
       "4               0  \n",
       "\n",
       "[5 rows x 23 columns]"
      ]
     },
     "execution_count": 62,
     "metadata": {},
     "output_type": "execute_result"
    }
   ],
   "source": [
    "# One hot encoding for only top 10 repeated features in a column and remaining to be zero\n",
    "def one_hot_top_x(df, variable, top_x_lable):\n",
    "    for lable in top_x_lable:\n",
    "        df[variable+'_'+lable] = np.where(df[variable] == lable , 1 ,0 )\n",
    "\n",
    "one_hot_top_x(df, 'program_type', top_10)  \n",
    "df.head()"
   ]
  },
  {
   "cell_type": "code",
   "execution_count": 63,
   "metadata": {},
   "outputs": [],
   "source": [
    "# dropping columns program_type and program_id\n",
    "df.drop(['program_type','program_id'],axis = 1,inplace = True)"
   ]
  },
  {
   "cell_type": "code",
   "execution_count": 64,
   "metadata": {},
   "outputs": [
    {
     "name": "stdout",
     "output_type": "stream",
     "text": [
      "<class 'pandas.core.frame.DataFrame'>\n",
      "Int64Index: 104496 entries, 0 to 31348\n",
      "Data columns (total 21 columns):\n",
      " #   Column                     Non-Null Count   Dtype  \n",
      "---  ------                     --------------   -----  \n",
      " 0   id                         104496 non-null  object \n",
      " 1   program_duration           104496 non-null  int64  \n",
      " 2   test_id                    104496 non-null  int64  \n",
      " 3   test_type                  104496 non-null  int64  \n",
      " 4   difficulty_level           104496 non-null  int64  \n",
      " 5   trainee_id                 104496 non-null  int64  \n",
      " 6   gender                     104496 non-null  int64  \n",
      " 7   education                  104496 non-null  int64  \n",
      " 8   city_tier                  104496 non-null  int64  \n",
      " 9   age                        104496 non-null  float64\n",
      " 10  total_programs_enrolled    104496 non-null  int64  \n",
      " 11  is_handicapped             104496 non-null  int64  \n",
      " 12  trainee_engagement_rating  104496 non-null  float64\n",
      " 13  is_pass                    73147 non-null   float64\n",
      " 14  program_type_Y             104496 non-null  int64  \n",
      " 15  program_type_T             104496 non-null  int64  \n",
      " 16  program_type_V             104496 non-null  int64  \n",
      " 17  program_type_U             104496 non-null  int64  \n",
      " 18  program_type_Z             104496 non-null  int64  \n",
      " 19  program_type_X             104496 non-null  int64  \n",
      " 20  program_type_S             104496 non-null  int64  \n",
      "dtypes: float64(3), int64(17), object(1)\n",
      "memory usage: 17.5+ MB\n"
     ]
    }
   ],
   "source": [
    "df.info()"
   ]
  },
  {
   "cell_type": "code",
   "execution_count": null,
   "metadata": {},
   "outputs": [],
   "source": []
  },
  {
   "cell_type": "code",
   "execution_count": 65,
   "metadata": {},
   "outputs": [],
   "source": [
    "#Splitting again back to Train and Test\n",
    "final_train = df.iloc[:73147,:]\n",
    "final_test = df.iloc[73147:,:]"
   ]
  },
  {
   "cell_type": "code",
   "execution_count": 70,
   "metadata": {},
   "outputs": [
    {
     "name": "stdout",
     "output_type": "stream",
     "text": [
      "(73147, 21)---(31349, 21)\n"
     ]
    }
   ],
   "source": [
    "print(final_train.shape,final_test.shape,sep = '---')"
   ]
  },
  {
   "cell_type": "code",
   "execution_count": 72,
   "metadata": {},
   "outputs": [
    {
     "name": "stderr",
     "output_type": "stream",
     "text": [
      "/opt/conda/lib/python3.7/site-packages/pandas/core/frame.py:3997: SettingWithCopyWarning: \n",
      "A value is trying to be set on a copy of a slice from a DataFrame\n",
      "\n",
      "See the caveats in the documentation: https://pandas.pydata.org/pandas-docs/stable/user_guide/indexing.html#returning-a-view-versus-a-copy\n",
      "  errors=errors,\n"
     ]
    }
   ],
   "source": [
    "final_train.drop('id',axis = 1 , inplace = True)"
   ]
  },
  {
   "cell_type": "code",
   "execution_count": 75,
   "metadata": {},
   "outputs": [
    {
     "data": {
      "text/html": [
       "<div>\n",
       "<style scoped>\n",
       "    .dataframe tbody tr th:only-of-type {\n",
       "        vertical-align: middle;\n",
       "    }\n",
       "\n",
       "    .dataframe tbody tr th {\n",
       "        vertical-align: top;\n",
       "    }\n",
       "\n",
       "    .dataframe thead th {\n",
       "        text-align: right;\n",
       "    }\n",
       "</style>\n",
       "<table border=\"1\" class=\"dataframe\">\n",
       "  <thead>\n",
       "    <tr style=\"text-align: right;\">\n",
       "      <th></th>\n",
       "      <th>program_duration</th>\n",
       "      <th>test_id</th>\n",
       "      <th>test_type</th>\n",
       "      <th>difficulty_level</th>\n",
       "      <th>trainee_id</th>\n",
       "      <th>gender</th>\n",
       "      <th>education</th>\n",
       "      <th>city_tier</th>\n",
       "      <th>age</th>\n",
       "      <th>total_programs_enrolled</th>\n",
       "      <th>is_handicapped</th>\n",
       "      <th>trainee_engagement_rating</th>\n",
       "      <th>is_pass</th>\n",
       "      <th>program_type_Y</th>\n",
       "      <th>program_type_T</th>\n",
       "      <th>program_type_V</th>\n",
       "      <th>program_type_U</th>\n",
       "      <th>program_type_Z</th>\n",
       "      <th>program_type_X</th>\n",
       "      <th>program_type_S</th>\n",
       "    </tr>\n",
       "  </thead>\n",
       "  <tbody>\n",
       "    <tr>\n",
       "      <th>5119</th>\n",
       "      <td>131</td>\n",
       "      <td>44</td>\n",
       "      <td>0</td>\n",
       "      <td>0</td>\n",
       "      <td>17464</td>\n",
       "      <td>0</td>\n",
       "      <td>1</td>\n",
       "      <td>1</td>\n",
       "      <td>27.000000</td>\n",
       "      <td>4</td>\n",
       "      <td>1</td>\n",
       "      <td>1.0</td>\n",
       "      <td>0.0</td>\n",
       "      <td>0</td>\n",
       "      <td>1</td>\n",
       "      <td>0</td>\n",
       "      <td>0</td>\n",
       "      <td>0</td>\n",
       "      <td>0</td>\n",
       "      <td>0</td>\n",
       "    </tr>\n",
       "    <tr>\n",
       "      <th>63047</th>\n",
       "      <td>136</td>\n",
       "      <td>159</td>\n",
       "      <td>1</td>\n",
       "      <td>0</td>\n",
       "      <td>15769</td>\n",
       "      <td>1</td>\n",
       "      <td>2</td>\n",
       "      <td>1</td>\n",
       "      <td>35.214935</td>\n",
       "      <td>2</td>\n",
       "      <td>1</td>\n",
       "      <td>4.0</td>\n",
       "      <td>1.0</td>\n",
       "      <td>1</td>\n",
       "      <td>0</td>\n",
       "      <td>0</td>\n",
       "      <td>0</td>\n",
       "      <td>0</td>\n",
       "      <td>0</td>\n",
       "      <td>0</td>\n",
       "    </tr>\n",
       "    <tr>\n",
       "      <th>53909</th>\n",
       "      <td>121</td>\n",
       "      <td>107</td>\n",
       "      <td>0</td>\n",
       "      <td>2</td>\n",
       "      <td>14381</td>\n",
       "      <td>1</td>\n",
       "      <td>2</td>\n",
       "      <td>2</td>\n",
       "      <td>28.000000</td>\n",
       "      <td>2</td>\n",
       "      <td>1</td>\n",
       "      <td>1.0</td>\n",
       "      <td>0.0</td>\n",
       "      <td>0</td>\n",
       "      <td>0</td>\n",
       "      <td>0</td>\n",
       "      <td>0</td>\n",
       "      <td>0</td>\n",
       "      <td>1</td>\n",
       "      <td>0</td>\n",
       "    </tr>\n",
       "    <tr>\n",
       "      <th>47467</th>\n",
       "      <td>121</td>\n",
       "      <td>106</td>\n",
       "      <td>0</td>\n",
       "      <td>2</td>\n",
       "      <td>12880</td>\n",
       "      <td>1</td>\n",
       "      <td>2</td>\n",
       "      <td>4</td>\n",
       "      <td>35.214935</td>\n",
       "      <td>2</td>\n",
       "      <td>0</td>\n",
       "      <td>3.0</td>\n",
       "      <td>1.0</td>\n",
       "      <td>0</td>\n",
       "      <td>0</td>\n",
       "      <td>0</td>\n",
       "      <td>0</td>\n",
       "      <td>0</td>\n",
       "      <td>1</td>\n",
       "      <td>0</td>\n",
       "    </tr>\n",
       "    <tr>\n",
       "      <th>23115</th>\n",
       "      <td>117</td>\n",
       "      <td>41</td>\n",
       "      <td>1</td>\n",
       "      <td>0</td>\n",
       "      <td>2345</td>\n",
       "      <td>0</td>\n",
       "      <td>1</td>\n",
       "      <td>4</td>\n",
       "      <td>27.000000</td>\n",
       "      <td>2</td>\n",
       "      <td>1</td>\n",
       "      <td>1.0</td>\n",
       "      <td>1.0</td>\n",
       "      <td>0</td>\n",
       "      <td>1</td>\n",
       "      <td>0</td>\n",
       "      <td>0</td>\n",
       "      <td>0</td>\n",
       "      <td>0</td>\n",
       "      <td>0</td>\n",
       "    </tr>\n",
       "  </tbody>\n",
       "</table>\n",
       "</div>"
      ],
      "text/plain": [
       "       program_duration  test_id  test_type  difficulty_level  trainee_id  \\\n",
       "5119                131       44          0                 0       17464   \n",
       "63047               136      159          1                 0       15769   \n",
       "53909               121      107          0                 2       14381   \n",
       "47467               121      106          0                 2       12880   \n",
       "23115               117       41          1                 0        2345   \n",
       "\n",
       "       gender  education  city_tier        age  total_programs_enrolled  \\\n",
       "5119        0          1          1  27.000000                        4   \n",
       "63047       1          2          1  35.214935                        2   \n",
       "53909       1          2          2  28.000000                        2   \n",
       "47467       1          2          4  35.214935                        2   \n",
       "23115       0          1          4  27.000000                        2   \n",
       "\n",
       "       is_handicapped  trainee_engagement_rating  is_pass  program_type_Y  \\\n",
       "5119                1                        1.0      0.0               0   \n",
       "63047               1                        4.0      1.0               1   \n",
       "53909               1                        1.0      0.0               0   \n",
       "47467               0                        3.0      1.0               0   \n",
       "23115               1                        1.0      1.0               0   \n",
       "\n",
       "       program_type_T  program_type_V  program_type_U  program_type_Z  \\\n",
       "5119                1               0               0               0   \n",
       "63047               0               0               0               0   \n",
       "53909               0               0               0               0   \n",
       "47467               0               0               0               0   \n",
       "23115               1               0               0               0   \n",
       "\n",
       "       program_type_X  program_type_S  \n",
       "5119                0               0  \n",
       "63047               0               0  \n",
       "53909               1               0  \n",
       "47467               1               0  \n",
       "23115               0               0  "
      ]
     },
     "execution_count": 75,
     "metadata": {},
     "output_type": "execute_result"
    }
   ],
   "source": [
    "final_train.sample(5)"
   ]
  },
  {
   "cell_type": "code",
   "execution_count": 76,
   "metadata": {},
   "outputs": [
    {
     "data": {
      "text/html": [
       "<div>\n",
       "<style scoped>\n",
       "    .dataframe tbody tr th:only-of-type {\n",
       "        vertical-align: middle;\n",
       "    }\n",
       "\n",
       "    .dataframe tbody tr th {\n",
       "        vertical-align: top;\n",
       "    }\n",
       "\n",
       "    .dataframe thead th {\n",
       "        text-align: right;\n",
       "    }\n",
       "</style>\n",
       "<table border=\"1\" class=\"dataframe\">\n",
       "  <thead>\n",
       "    <tr style=\"text-align: right;\">\n",
       "      <th></th>\n",
       "      <th>id</th>\n",
       "      <th>program_duration</th>\n",
       "      <th>test_id</th>\n",
       "      <th>test_type</th>\n",
       "      <th>difficulty_level</th>\n",
       "      <th>trainee_id</th>\n",
       "      <th>gender</th>\n",
       "      <th>education</th>\n",
       "      <th>city_tier</th>\n",
       "      <th>age</th>\n",
       "      <th>...</th>\n",
       "      <th>is_handicapped</th>\n",
       "      <th>trainee_engagement_rating</th>\n",
       "      <th>is_pass</th>\n",
       "      <th>program_type_Y</th>\n",
       "      <th>program_type_T</th>\n",
       "      <th>program_type_V</th>\n",
       "      <th>program_type_U</th>\n",
       "      <th>program_type_Z</th>\n",
       "      <th>program_type_X</th>\n",
       "      <th>program_type_S</th>\n",
       "    </tr>\n",
       "  </thead>\n",
       "  <tbody>\n",
       "    <tr>\n",
       "      <th>0</th>\n",
       "      <td>1626_45</td>\n",
       "      <td>131</td>\n",
       "      <td>45</td>\n",
       "      <td>0</td>\n",
       "      <td>1</td>\n",
       "      <td>1626</td>\n",
       "      <td>0</td>\n",
       "      <td>1</td>\n",
       "      <td>3</td>\n",
       "      <td>46.000000</td>\n",
       "      <td>...</td>\n",
       "      <td>1</td>\n",
       "      <td>4.0</td>\n",
       "      <td>NaN</td>\n",
       "      <td>0</td>\n",
       "      <td>1</td>\n",
       "      <td>0</td>\n",
       "      <td>0</td>\n",
       "      <td>0</td>\n",
       "      <td>0</td>\n",
       "      <td>0</td>\n",
       "    </tr>\n",
       "    <tr>\n",
       "      <th>1</th>\n",
       "      <td>11020_130</td>\n",
       "      <td>135</td>\n",
       "      <td>130</td>\n",
       "      <td>1</td>\n",
       "      <td>0</td>\n",
       "      <td>11020</td>\n",
       "      <td>1</td>\n",
       "      <td>3</td>\n",
       "      <td>3</td>\n",
       "      <td>39.542629</td>\n",
       "      <td>...</td>\n",
       "      <td>1</td>\n",
       "      <td>4.0</td>\n",
       "      <td>NaN</td>\n",
       "      <td>1</td>\n",
       "      <td>0</td>\n",
       "      <td>0</td>\n",
       "      <td>0</td>\n",
       "      <td>0</td>\n",
       "      <td>0</td>\n",
       "      <td>0</td>\n",
       "    </tr>\n",
       "    <tr>\n",
       "      <th>2</th>\n",
       "      <td>12652_146</td>\n",
       "      <td>120</td>\n",
       "      <td>146</td>\n",
       "      <td>1</td>\n",
       "      <td>0</td>\n",
       "      <td>12652</td>\n",
       "      <td>1</td>\n",
       "      <td>1</td>\n",
       "      <td>3</td>\n",
       "      <td>36.285574</td>\n",
       "      <td>...</td>\n",
       "      <td>1</td>\n",
       "      <td>3.0</td>\n",
       "      <td>NaN</td>\n",
       "      <td>1</td>\n",
       "      <td>0</td>\n",
       "      <td>0</td>\n",
       "      <td>0</td>\n",
       "      <td>0</td>\n",
       "      <td>0</td>\n",
       "      <td>0</td>\n",
       "    </tr>\n",
       "    <tr>\n",
       "      <th>3</th>\n",
       "      <td>7038_72</td>\n",
       "      <td>122</td>\n",
       "      <td>72</td>\n",
       "      <td>0</td>\n",
       "      <td>3</td>\n",
       "      <td>7038</td>\n",
       "      <td>0</td>\n",
       "      <td>2</td>\n",
       "      <td>1</td>\n",
       "      <td>35.156783</td>\n",
       "      <td>...</td>\n",
       "      <td>1</td>\n",
       "      <td>2.0</td>\n",
       "      <td>NaN</td>\n",
       "      <td>0</td>\n",
       "      <td>0</td>\n",
       "      <td>1</td>\n",
       "      <td>0</td>\n",
       "      <td>0</td>\n",
       "      <td>0</td>\n",
       "      <td>0</td>\n",
       "    </tr>\n",
       "    <tr>\n",
       "      <th>4</th>\n",
       "      <td>888_71</td>\n",
       "      <td>122</td>\n",
       "      <td>71</td>\n",
       "      <td>0</td>\n",
       "      <td>1</td>\n",
       "      <td>888</td>\n",
       "      <td>0</td>\n",
       "      <td>1</td>\n",
       "      <td>3</td>\n",
       "      <td>36.285574</td>\n",
       "      <td>...</td>\n",
       "      <td>1</td>\n",
       "      <td>2.0</td>\n",
       "      <td>NaN</td>\n",
       "      <td>0</td>\n",
       "      <td>0</td>\n",
       "      <td>1</td>\n",
       "      <td>0</td>\n",
       "      <td>0</td>\n",
       "      <td>0</td>\n",
       "      <td>0</td>\n",
       "    </tr>\n",
       "  </tbody>\n",
       "</table>\n",
       "<p>5 rows × 21 columns</p>\n",
       "</div>"
      ],
      "text/plain": [
       "          id  program_duration  test_id  test_type  difficulty_level  \\\n",
       "0    1626_45               131       45          0                 1   \n",
       "1  11020_130               135      130          1                 0   \n",
       "2  12652_146               120      146          1                 0   \n",
       "3    7038_72               122       72          0                 3   \n",
       "4     888_71               122       71          0                 1   \n",
       "\n",
       "   trainee_id  gender  education  city_tier        age  ...  is_handicapped  \\\n",
       "0        1626       0          1          3  46.000000  ...               1   \n",
       "1       11020       1          3          3  39.542629  ...               1   \n",
       "2       12652       1          1          3  36.285574  ...               1   \n",
       "3        7038       0          2          1  35.156783  ...               1   \n",
       "4         888       0          1          3  36.285574  ...               1   \n",
       "\n",
       "   trainee_engagement_rating  is_pass  program_type_Y  program_type_T  \\\n",
       "0                        4.0      NaN               0               1   \n",
       "1                        4.0      NaN               1               0   \n",
       "2                        3.0      NaN               1               0   \n",
       "3                        2.0      NaN               0               0   \n",
       "4                        2.0      NaN               0               0   \n",
       "\n",
       "   program_type_V  program_type_U  program_type_Z  program_type_X  \\\n",
       "0               0               0               0               0   \n",
       "1               0               0               0               0   \n",
       "2               0               0               0               0   \n",
       "3               1               0               0               0   \n",
       "4               1               0               0               0   \n",
       "\n",
       "   program_type_S  \n",
       "0               0  \n",
       "1               0  \n",
       "2               0  \n",
       "3               0  \n",
       "4               0  \n",
       "\n",
       "[5 rows x 21 columns]"
      ]
     },
     "execution_count": 76,
     "metadata": {},
     "output_type": "execute_result"
    }
   ],
   "source": [
    "final_test.head()"
   ]
  },
  {
   "cell_type": "code",
   "execution_count": 77,
   "metadata": {},
   "outputs": [
    {
     "name": "stderr",
     "output_type": "stream",
     "text": [
      "/opt/conda/lib/python3.7/site-packages/pandas/core/frame.py:3997: SettingWithCopyWarning: \n",
      "A value is trying to be set on a copy of a slice from a DataFrame\n",
      "\n",
      "See the caveats in the documentation: https://pandas.pydata.org/pandas-docs/stable/user_guide/indexing.html#returning-a-view-versus-a-copy\n",
      "  errors=errors,\n"
     ]
    }
   ],
   "source": [
    "final_test.drop(['id','is_pass'],axis = 1, inplace = True)"
   ]
  },
  {
   "cell_type": "code",
   "execution_count": 79,
   "metadata": {},
   "outputs": [],
   "source": [
    "X_train = final_train.drop('is_pass',1)\n",
    "y_train = final_train['is_pass']"
   ]
  },
  {
   "cell_type": "code",
   "execution_count": null,
   "metadata": {},
   "outputs": [],
   "source": []
  },
  {
   "cell_type": "code",
   "execution_count": null,
   "metadata": {},
   "outputs": [],
   "source": []
  },
  {
   "cell_type": "code",
   "execution_count": 80,
   "metadata": {},
   "outputs": [],
   "source": [
    "# Gradient Boosting \n",
    "from sklearn.ensemble import  GradientBoostingClassifier\n",
    "gbc1 = GradientBoostingClassifier(n_estimators=100,max_depth=6,learning_rate = 0.1)\n",
    "model_gbc1 = gbc1.fit(X_train,y_train)"
   ]
  },
  {
   "cell_type": "code",
   "execution_count": null,
   "metadata": {},
   "outputs": [],
   "source": []
  },
  {
   "cell_type": "code",
   "execution_count": 81,
   "metadata": {},
   "outputs": [],
   "source": [
    "from sklearn.model_selection import cross_val_score\n",
    "all_scores = cross_val_score(estimator=gbc1,X =X_train,y=y_train,cv = 5,scoring = 'roc_auc')"
   ]
  },
  {
   "cell_type": "code",
   "execution_count": 82,
   "metadata": {},
   "outputs": [
    {
     "data": {
      "text/plain": [
       "array([0.75017372, 0.75165324, 0.75692046, 0.75125983, 0.75325954])"
      ]
     },
     "execution_count": 82,
     "metadata": {},
     "output_type": "execute_result"
    }
   ],
   "source": [
    "all_scores"
   ]
  },
  {
   "cell_type": "code",
   "execution_count": 83,
   "metadata": {},
   "outputs": [],
   "source": [
    "y_pred = gbc1.predict(final_test)"
   ]
  },
  {
   "cell_type": "code",
   "execution_count": 84,
   "metadata": {},
   "outputs": [],
   "source": [
    "submission = pd.read_csv('sample_submission_vaSxamm.csv')"
   ]
  },
  {
   "cell_type": "code",
   "execution_count": 85,
   "metadata": {},
   "outputs": [
    {
     "data": {
      "text/plain": [
       "array([1., 1., 1., ..., 1., 0., 1.])"
      ]
     },
     "execution_count": 85,
     "metadata": {},
     "output_type": "execute_result"
    }
   ],
   "source": [
    "y_pred"
   ]
  },
  {
   "cell_type": "code",
   "execution_count": 90,
   "metadata": {},
   "outputs": [
    {
     "data": {
      "text/html": [
       "<div>\n",
       "<style scoped>\n",
       "    .dataframe tbody tr th:only-of-type {\n",
       "        vertical-align: middle;\n",
       "    }\n",
       "\n",
       "    .dataframe tbody tr th {\n",
       "        vertical-align: top;\n",
       "    }\n",
       "\n",
       "    .dataframe thead th {\n",
       "        text-align: right;\n",
       "    }\n",
       "</style>\n",
       "<table border=\"1\" class=\"dataframe\">\n",
       "  <thead>\n",
       "    <tr style=\"text-align: right;\">\n",
       "      <th></th>\n",
       "      <th>id</th>\n",
       "      <th>is_pass</th>\n",
       "    </tr>\n",
       "  </thead>\n",
       "  <tbody>\n",
       "    <tr>\n",
       "      <th>0</th>\n",
       "      <td>1626_45</td>\n",
       "      <td>1</td>\n",
       "    </tr>\n",
       "    <tr>\n",
       "      <th>1</th>\n",
       "      <td>11020_130</td>\n",
       "      <td>1</td>\n",
       "    </tr>\n",
       "    <tr>\n",
       "      <th>2</th>\n",
       "      <td>12652_146</td>\n",
       "      <td>1</td>\n",
       "    </tr>\n",
       "    <tr>\n",
       "      <th>3</th>\n",
       "      <td>7038_72</td>\n",
       "      <td>0</td>\n",
       "    </tr>\n",
       "    <tr>\n",
       "      <th>4</th>\n",
       "      <td>888_71</td>\n",
       "      <td>1</td>\n",
       "    </tr>\n",
       "  </tbody>\n",
       "</table>\n",
       "</div>"
      ],
      "text/plain": [
       "          id  is_pass\n",
       "0    1626_45        1\n",
       "1  11020_130        1\n",
       "2  12652_146        1\n",
       "3    7038_72        0\n",
       "4     888_71        1"
      ]
     },
     "execution_count": 90,
     "metadata": {},
     "output_type": "execute_result"
    }
   ],
   "source": [
    "submission.head()"
   ]
  },
  {
   "cell_type": "code",
   "execution_count": 89,
   "metadata": {},
   "outputs": [],
   "source": [
    "submission['is_pass'] = y_pred\n",
    "submission['is_pass'] = submission['is_pass'].astype(float).astype(int)"
   ]
  },
  {
   "cell_type": "code",
   "execution_count": 91,
   "metadata": {},
   "outputs": [],
   "source": [
    "submission.to_csv('submission_1.csv',index=False)"
   ]
  },
  {
   "cell_type": "code",
   "execution_count": 92,
   "metadata": {},
   "outputs": [
    {
     "data": {
      "text/plain": [
       "1    50867\n",
       "0    22280\n",
       "Name: is_pass, dtype: int64"
      ]
     },
     "execution_count": 92,
     "metadata": {},
     "output_type": "execute_result"
    }
   ],
   "source": []
  },
  {
   "cell_type": "code",
   "execution_count": null,
   "metadata": {},
   "outputs": [],
   "source": []
  },
  {
   "cell_type": "code",
   "execution_count": null,
   "metadata": {},
   "outputs": [],
   "source": []
  },
  {
   "cell_type": "code",
   "execution_count": null,
   "metadata": {},
   "outputs": [],
   "source": []
  },
  {
   "cell_type": "code",
   "execution_count": null,
   "metadata": {},
   "outputs": [],
   "source": []
  },
  {
   "cell_type": "markdown",
   "metadata": {},
   "source": [
    "## Hyperopt"
   ]
  },
  {
   "cell_type": "code",
   "execution_count": 94,
   "metadata": {},
   "outputs": [],
   "source": [
    "#import\n",
    "from hyperopt import fmin,tpe,hp,STATUS_OK,Trials"
   ]
  },
  {
   "cell_type": "code",
   "execution_count": 95,
   "metadata": {},
   "outputs": [],
   "source": [
    "#import\n",
    "from sklearn.model_selection import StratifiedKFold"
   ]
  },
  {
   "cell_type": "code",
   "execution_count": 96,
   "metadata": {},
   "outputs": [
    {
     "name": "stderr",
     "output_type": "stream",
     "text": [
      "/opt/conda/lib/python3.7/site-packages/sklearn/model_selection/_split.py:296: FutureWarning: Setting a random_state has no effect since shuffle is False. This will raise an error in 0.24. You should leave random_state to its default (None), or set shuffle=True.\n",
      "  FutureWarning\n"
     ]
    }
   ],
   "source": [
    "#initiate\n",
    "skfold=StratifiedKFold(n_splits=5,shuffle=False,random_state=100)"
   ]
  },
  {
   "cell_type": "code",
   "execution_count": 97,
   "metadata": {},
   "outputs": [],
   "source": [
    "#ROC function\n",
    "from sklearn import metrics\n",
    "def draw_roc( actual, probs ):\n",
    "    fpr, tpr, thresholds = metrics.roc_curve( actual, probs,\n",
    "                                              drop_intermediate = False )\n",
    "    auc_score = metrics.roc_auc_score( actual, probs )\n",
    "    plt.figure(figsize=(6, 6))\n",
    "    plt.plot( fpr, tpr, label='ROC curve (area = %0.2f)' % auc_score )\n",
    "    plt.plot([0, 1], [0, 1], 'k--')\n",
    "    plt.xlim([0.0, 1.0])\n",
    "    plt.ylim([0.0, 1.05])\n",
    "    plt.xlabel('False Positive Rate or [1 - True Negative Rate]')\n",
    "    plt.ylabel('True Positive Rate')\n",
    "    plt.title('Receiver operating characteristic example')\n",
    "    plt.legend(loc=\"lower right\")\n",
    "    plt.show()\n",
    "\n",
    "    #return fpr, tpr, thresholds"
   ]
  },
  {
   "cell_type": "code",
   "execution_count": 99,
   "metadata": {},
   "outputs": [],
   "source": [
    "from sklearn.model_selection import train_test_split\n",
    "from sklearn.linear_model import LogisticRegression\n",
    "from sklearn.tree import DecisionTreeClassifier\n",
    "from sklearn.ensemble import RandomForestClassifier\n",
    "from sklearn.metrics import plot_roc_curve\n",
    "\n",
    "X_train, X_test, y_train, y_test = train_test_split(X_train,y_train,train_size=0.85,random_state=100)"
   ]
  },
  {
   "cell_type": "code",
   "execution_count": null,
   "metadata": {},
   "outputs": [],
   "source": []
  },
  {
   "cell_type": "code",
   "execution_count": 100,
   "metadata": {},
   "outputs": [
    {
     "name": "stdout",
     "output_type": "stream",
     "text": [
      "new best:                                             \n",
      "0.6595260778652197                                    \n",
      "{'criterion': 'entropy', 'max_depth': 15, 'max_features': 8, 'min_samples_split': 0.3502186305769178, 'n_estimators': 50}\n",
      "new best:                                                                        \n",
      "0.674648769736106                                                                \n",
      "{'criterion': 'entropy', 'max_depth': 8, 'max_features': 2, 'min_samples_split': 0.15405082449835228, 'n_estimators': 150}\n",
      "new best:                                                                        \n",
      "0.683061592834848                                                               \n",
      "{'criterion': 'entropy', 'max_depth': 13, 'max_features': 5, 'min_samples_split': 0.1649434926532818, 'n_estimators': 140}\n",
      "new best:                                                                        \n",
      "0.6927070795903851                                                               \n",
      "{'criterion': 'entropy', 'max_depth': 8, 'max_features': 5, 'min_samples_split': 0.1136261351528548, 'n_estimators': 130}\n",
      "new best:                                                                         \n",
      "0.6941133692132341                                                                \n",
      "{'criterion': 'entropy', 'max_depth': 8, 'max_features': 11, 'min_samples_split': 0.10724040298112303, 'n_estimators': 140}\n",
      "new best:                                                                         \n",
      "0.7178229583856837                                                                \n",
      "{'criterion': 'entropy', 'max_depth': 11, 'max_features': 5, 'min_samples_split': 0.021750359841345865, 'n_estimators': 130}\n",
      "new best:                                                                         \n",
      "0.7332016181732178                                                                \n",
      "{'criterion': 'entropy', 'max_depth': 11, 'max_features': 11, 'min_samples_split': 0.004284230290774082, 'n_estimators': 70}\n",
      "100%|██████████| 30/30 [01:15<00:00,  2.51s/trial, best loss: -0.7332016181732178]\n",
      "Best: {'criterion': 'entropy', 'max_depth': 11, 'max_features': 11, 'min_samples_split': 0.004284230290774082, 'n_estimators': 70}\n",
      "CPU times: user 1.62 s, sys: 680 ms, total: 2.3 s\n",
      "Wall time: 1min 15s\n"
     ]
    }
   ],
   "source": [
    "%%time\n",
    "\n",
    "X_trn=X_train\n",
    "y_trn=y_train\n",
    "\n",
    "X_tst=X_test\n",
    "y_tst=y_test\n",
    "\n",
    "#defining\n",
    "from sklearn.ensemble import RandomForestClassifier\n",
    "from sklearn.model_selection import cross_val_score\n",
    "def hyperopt_train_test(params):\n",
    "    clf=RandomForestClassifier(**params)\n",
    "    crossvalscore=cross_val_score(clf,X_trn,y_trn,n_jobs=-1,cv=5,\n",
    "              scoring= 'roc_auc').mean()\n",
    "    return(crossvalscore)\n",
    "\n",
    "rf_space={\n",
    "    'max_depth':hp.choice('max_depth',range(8,16)),\n",
    "    'max_features':hp.choice('max_features',range(1,15)),\n",
    "    'criterion': hp.choice('criterion', [\"gini\", \"entropy\"]),\n",
    "    'n_estimators': hp.choice('n_estimators', range(50,160,10)),\n",
    "    'min_samples_split':hp.uniform('min_samples_split', 0, 1)\n",
    "    \n",
    "}\n",
    "\n",
    "rf_best=0\n",
    "\n",
    "def f(params):\n",
    "    global rf_best\n",
    "    acc=hyperopt_train_test(params)\n",
    "    if acc>rf_best:\n",
    "        rf_best=acc\n",
    "        print('new best:', rf_best, params)\n",
    "    return {'loss': -acc, 'status': STATUS_OK}\n",
    "\n",
    "rf_trials=Trials()\n",
    "rf_best=fmin(f,rf_space,algo=tpe.suggest,max_evals=30,trials=rf_trials)\n",
    "\n",
    "\n",
    "from hyperopt import space_eval\n",
    "rf_best_params=space_eval(rf_space, rf_best)\n",
    "print('Best:',rf_best_params)"
   ]
  },
  {
   "cell_type": "code",
   "execution_count": 101,
   "metadata": {},
   "outputs": [
    {
     "data": {
      "text/plain": [
       "{'criterion': 'entropy',\n",
       " 'max_depth': 11,\n",
       " 'max_features': 11,\n",
       " 'min_samples_split': 0.004284230290774082,\n",
       " 'n_estimators': 70}"
      ]
     },
     "execution_count": 101,
     "metadata": {},
     "output_type": "execute_result"
    }
   ],
   "source": [
    "rf_best_params"
   ]
  },
  {
   "cell_type": "code",
   "execution_count": 102,
   "metadata": {},
   "outputs": [
    {
     "name": "stdout",
     "output_type": "stream",
     "text": [
      "CPU times: user 44 ms, sys: 16 ms, total: 60 ms\n",
      "Wall time: 6.31 s\n"
     ]
    }
   ],
   "source": [
    "%%time\n",
    "\n",
    "X_trn=X_train\n",
    "y_trn=y_train\n",
    "\n",
    "X_tst=X_test\n",
    "y_tst=y_test\n",
    "\n",
    "\n",
    "from sklearn.model_selection import cross_val_score\n",
    "from sklearn.ensemble import RandomForestClassifier\n",
    "\n",
    "#initiate\n",
    "skfold=StratifiedKFold(n_splits=5,shuffle=True,random_state=100)\n",
    "rf_clf=RandomForestClassifier(**rf_best_params)\n",
    "\n",
    "rf_crossvalscore=cross_val_score(rf_clf,X_trn,y_trn,n_jobs=-1,cv=skfold,\n",
    "            scoring= 'roc_auc')"
   ]
  },
  {
   "cell_type": "code",
   "execution_count": 103,
   "metadata": {},
   "outputs": [
    {
     "data": {
      "text/plain": [
       "array([0.73369404, 0.73046413, 0.7392195 , 0.73154209, 0.73236052])"
      ]
     },
     "execution_count": 103,
     "metadata": {},
     "output_type": "execute_result"
    }
   ],
   "source": [
    "rf_crossvalscore"
   ]
  },
  {
   "cell_type": "code",
   "execution_count": 104,
   "metadata": {},
   "outputs": [
    {
     "name": "stdout",
     "output_type": "stream",
     "text": [
      "CPU times: user 0 ns, sys: 0 ns, total: 0 ns\n",
      "Wall time: 65.3 µs\n"
     ]
    }
   ],
   "source": [
    "%%time\n",
    "from sklearn.model_selection import cross_val_score\n",
    "from sklearn.ensemble import RandomForestClassifier\n",
    "rf_clf=RandomForestClassifier(**rf_best_params)"
   ]
  },
  {
   "cell_type": "code",
   "execution_count": 105,
   "metadata": {},
   "outputs": [
    {
     "name": "stdout",
     "output_type": "stream",
     "text": [
      "CPU times: user 7.23 s, sys: 0 ns, total: 7.23 s\n",
      "Wall time: 7.23 s\n"
     ]
    },
    {
     "data": {
      "text/plain": [
       "RandomForestClassifier(bootstrap=True, ccp_alpha=0.0, class_weight=None,\n",
       "                       criterion='entropy', max_depth=11, max_features=11,\n",
       "                       max_leaf_nodes=None, max_samples=None,\n",
       "                       min_impurity_decrease=0.0, min_impurity_split=None,\n",
       "                       min_samples_leaf=1,\n",
       "                       min_samples_split=0.004284230290774082,\n",
       "                       min_weight_fraction_leaf=0.0, n_estimators=70,\n",
       "                       n_jobs=None, oob_score=False, random_state=None,\n",
       "                       verbose=0, warm_start=False)"
      ]
     },
     "execution_count": 105,
     "metadata": {},
     "output_type": "execute_result"
    }
   ],
   "source": [
    "%%time\n",
    "rf_clf.fit(X_train,y_train)"
   ]
  },
  {
   "cell_type": "code",
   "execution_count": null,
   "metadata": {},
   "outputs": [],
   "source": []
  },
  {
   "cell_type": "code",
   "execution_count": null,
   "metadata": {},
   "outputs": [],
   "source": []
  },
  {
   "cell_type": "code",
   "execution_count": null,
   "metadata": {},
   "outputs": [],
   "source": []
  },
  {
   "cell_type": "code",
   "execution_count": null,
   "metadata": {},
   "outputs": [],
   "source": []
  },
  {
   "cell_type": "code",
   "execution_count": 106,
   "metadata": {},
   "outputs": [
    {
     "name": "stdout",
     "output_type": "stream",
     "text": [
      "new best:                                             \n",
      "0.7867528                                             \n",
      "{'booster ': 'gbtree', 'colsample_bytree': 0.64, 'eval_metric': 'auc', 'gamma': 0.45, 'learning_rate': 0.29, 'max_depth': 19, 'min_child_weight': 8.0, 'n_estimators': 600, 'objective': 'binary:logistic', 'reg_lambda': 0.5011509584626351, 'subsample': 0.9500000000000001}\n",
      "new best:                                                                 \n",
      "0.7949348                                                               \n",
      "{'booster ': 'gbtree', 'colsample_bytree': 0.84, 'eval_metric': 'auc', 'gamma': 0.43, 'learning_rate': 0.04, 'max_depth': 15, 'min_child_weight': 5.0, 'n_estimators': 1800, 'objective': 'binary:logistic', 'reg_lambda': 0.1807706211078871, 'subsample': 0.78}\n",
      "new best:                                                                \n",
      "0.795658                                                                 \n",
      "{'booster ': 'gbtree', 'colsample_bytree': 0.92, 'eval_metric': 'auc', 'gamma': 0.29, 'learning_rate': 0.01, 'max_depth': 13, 'min_child_weight': 2.0, 'n_estimators': 400, 'objective': 'binary:logistic', 'reg_lambda': 0.3887800383227991, 'subsample': 0.5}\n",
      "new best:                                                                  \n",
      "0.7957677999999999                                                      \n",
      "{'booster ': 'gbtree', 'colsample_bytree': 0.64, 'eval_metric': 'auc', 'gamma': 0.38, 'learning_rate': 0.02, 'max_depth': 13, 'min_child_weight': 1.0, 'n_estimators': 1000, 'objective': 'binary:logistic', 'reg_lambda': 0.676058691290064, 'subsample': 0.45}\n",
      "new best:                                                                          \n",
      "0.7960348                                                                         \n",
      "{'booster ': 'gbtree', 'colsample_bytree': 0.56, 'eval_metric': 'auc', 'gamma': 0.23, 'learning_rate': 0.01, 'max_depth': 18, 'min_child_weight': 4.0, 'n_estimators': 1600, 'objective': 'binary:logistic', 'reg_lambda': 0.8145045384269433, 'subsample': 0.7000000000000001}\n",
      "100%|██████████| 50/50 [57:03<00:00, 68.47s/trial, best loss: -0.7960348]         \n",
      "Best: {'booster ': 'gbtree', 'colsample_bytree': 0.56, 'eval_metric': 'auc', 'gamma': 0.23, 'learning_rate': 0.01, 'max_depth': 18, 'min_child_weight': 4.0, 'n_estimators': 1600, 'objective': 'binary:logistic', 'reg_lambda': 0.8145045384269433, 'subsample': 0.7000000000000001}\n",
      "CPU times: user 15h 3min 37s, sys: 7min 5s, total: 15h 10min 42s\n",
      "Wall time: 57min 5s\n"
     ]
    }
   ],
   "source": [
    "%%time\n",
    "\n",
    "X_trn=X_train\n",
    "y_trn=y_train\n",
    "\n",
    "X_tst=X_test\n",
    "y_tst=y_test\n",
    "\n",
    "\n",
    "#import\n",
    "from hyperopt import fmin,tpe,hp,STATUS_OK,Trials\n",
    "\n",
    "#defining\n",
    "from sklearn.ensemble import RandomForestClassifier\n",
    "from sklearn.model_selection import cross_val_score\n",
    "from xgboost import XGBClassifier\n",
    "import xgboost as xgb\n",
    "\n",
    "xgb_space = {\n",
    "    'booster '    : 'gbtree',       \n",
    "    'objective'   : 'binary:logistic',\n",
    "    'eval_metric' : 'auc',\n",
    "    'max_depth' : hp.choice('max_depth', range(5, 20, 1)),\n",
    "    'learning_rate' : hp.quniform('learning_rate', 0.01, 0.5, 0.01),\n",
    "    'n_estimators' : hp.choice('n_estimators', range(200, 2100, 100)),\n",
    "    'gamma' : hp.quniform('gamma', 0, 0.50, 0.01),\n",
    "    'min_child_weight' : hp.quniform('min_child_weight', 1, 10, 1),\n",
    "    'subsample' : hp.quniform('subsample', 0.1, 1, 0.01),\n",
    "    'colsample_bytree' : hp.quniform('colsample_bytree', 0.1, 1.0, 0.01),\n",
    "    'reg_lambda' : hp.uniform ('reg_lambda', 0,1)\n",
    "    }\n",
    "\n",
    "xgb_train = xgb.DMatrix(X_trn.values, y_trn.values)\n",
    "xgb_eval  = xgb.DMatrix(X_tst.values, y_tst.values)\n",
    "\n",
    "def hyperopt_train_test(params):\n",
    "\n",
    "    train_=xgb_train\n",
    "\n",
    "    xgb_clf = xgb.cv(params,\n",
    "                   train_,\n",
    "                   nfold=5,\n",
    "                   num_boost_round=2000,\n",
    "                   early_stopping_rounds=20,\n",
    "                   verbose_eval=False,\n",
    "                   shuffle=True,\n",
    "                   stratified=True)\n",
    "\n",
    "    crossvalscore=list(xgb_clf['test-auc-mean'])[-1]\n",
    "    return(crossvalscore)\n",
    "\n",
    "\n",
    "xgb_best=0\n",
    "\n",
    "\n",
    "def f(params):\n",
    "    global xgb_best\n",
    "    acc=hyperopt_train_test(params)\n",
    "    if acc>xgb_best:\n",
    "        xgb_best=acc\n",
    "        print('new best:', xgb_best, params)\n",
    "    return {'loss': -acc, 'status': STATUS_OK}\n",
    "\n",
    "xgb_trials=Trials()\n",
    "xgb_best=fmin(f,xgb_space,algo=tpe.suggest,max_evals=50,trials=xgb_trials)\n",
    "\n",
    "\n",
    "\n",
    "from hyperopt import space_eval\n",
    "\n",
    "xgb_best_params=space_eval(xgb_space, xgb_best)\n",
    "print('Best:',space_eval(xgb_space, xgb_best))"
   ]
  },
  {
   "cell_type": "code",
   "execution_count": 107,
   "metadata": {},
   "outputs": [],
   "source": [
    "xgb_clf = xgb.XGBClassifier(**xgb_best_params)"
   ]
  },
  {
   "cell_type": "code",
   "execution_count": 108,
   "metadata": {},
   "outputs": [
    {
     "name": "stdout",
     "output_type": "stream",
     "text": [
      "CPU times: user 14min 59s, sys: 7.3 s, total: 15min 6s\n",
      "Wall time: 56.7 s\n"
     ]
    },
    {
     "data": {
      "text/plain": [
       "XGBClassifier(base_score=0.5, booster=None, booster ='gbtree',\n",
       "              colsample_bylevel=1, colsample_bynode=1, colsample_bytree=0.56,\n",
       "              eval_metric='auc', gamma=0.23, gpu_id=-1, importance_type='gain',\n",
       "              interaction_constraints=None, learning_rate=0.01,\n",
       "              max_delta_step=0, max_depth=18, min_child_weight=4.0, missing=nan,\n",
       "              monotone_constraints=None, n_estimators=1600, n_jobs=0,\n",
       "              num_parallel_tree=1, objective='binary:logistic', random_state=0,\n",
       "              reg_alpha=0, reg_lambda=0.8145045384269433, scale_pos_weight=1,\n",
       "              subsample=0.7000000000000001, tree_method=None,\n",
       "              validate_parameters=False, verbosity=None)"
      ]
     },
     "execution_count": 108,
     "metadata": {},
     "output_type": "execute_result"
    }
   ],
   "source": [
    "%%time\n",
    "xgb_clf.fit(X_train,y_train)"
   ]
  },
  {
   "cell_type": "code",
   "execution_count": 113,
   "metadata": {},
   "outputs": [
    {
     "name": "stdout",
     "output_type": "stream",
     "text": [
      "CPU times: user 31.2 s, sys: 12 ms, total: 31.2 s\n",
      "Wall time: 1.96 s\n"
     ]
    }
   ],
   "source": [
    "%%time\n",
    "y_pred_xgb = xgb_clf.predict(final_test)"
   ]
  },
  {
   "cell_type": "code",
   "execution_count": 111,
   "metadata": {},
   "outputs": [],
   "source": []
  },
  {
   "cell_type": "code",
   "execution_count": 114,
   "metadata": {},
   "outputs": [
    {
     "data": {
      "text/plain": [
       "array([1., 1., 1., ..., 1., 0., 1.])"
      ]
     },
     "execution_count": 114,
     "metadata": {},
     "output_type": "execute_result"
    }
   ],
   "source": [
    "y_pred_xgb"
   ]
  },
  {
   "cell_type": "code",
   "execution_count": 115,
   "metadata": {},
   "outputs": [],
   "source": [
    "submission['is_pass'] = y_pred_xgb\n",
    "submission['is_pass'] = submission['is_pass'].astype(float).astype(int)"
   ]
  },
  {
   "cell_type": "code",
   "execution_count": 116,
   "metadata": {},
   "outputs": [],
   "source": [
    "submission.to_csv('submission_xgb.csv',index=False)"
   ]
  },
  {
   "cell_type": "code",
   "execution_count": null,
   "metadata": {},
   "outputs": [],
   "source": []
  },
  {
   "cell_type": "code",
   "execution_count": null,
   "metadata": {},
   "outputs": [],
   "source": []
  }
 ],
 "metadata": {
  "kernelspec": {
   "display_name": "Python 3",
   "language": "python",
   "name": "python3"
  },
  "language_info": {
   "codemirror_mode": {
    "name": "ipython",
    "version": 3
   },
   "file_extension": ".py",
   "mimetype": "text/x-python",
   "name": "python",
   "nbconvert_exporter": "python",
   "pygments_lexer": "ipython3",
   "version": "3.7.6"
  }
 },
 "nbformat": 4,
 "nbformat_minor": 4
}
